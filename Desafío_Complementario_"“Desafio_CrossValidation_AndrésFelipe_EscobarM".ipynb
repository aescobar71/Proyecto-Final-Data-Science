{
  "nbformat": 4,
  "nbformat_minor": 0,
  "metadata": {
    "colab": {
      "provenance": [],
      "authorship_tag": "ABX9TyPG5Gd06QIdzzgMQEwmB/yC",
      "include_colab_link": true
    },
    "kernelspec": {
      "name": "python3",
      "display_name": "Python 3"
    },
    "language_info": {
      "name": "python"
    }
  },
  "cells": [
    {
      "cell_type": "markdown",
      "metadata": {
        "id": "view-in-github",
        "colab_type": "text"
      },
      "source": [
        "<a href=\"https://colab.research.google.com/github/aescobar71/Proyecto-Final-Data-Science/blob/main/Desaf%C3%ADo_Complementario_%22%E2%80%9CDesafio_CrossValidation_Andr%C3%A9sFelipe_EscobarM%22.ipynb\" target=\"_parent\"><img src=\"https://colab.research.google.com/assets/colab-badge.svg\" alt=\"Open In Colab\"/></a>"
      ]
    },
    {
      "cell_type": "markdown",
      "source": [
        "**Nombre: Andrés Felipe Escobar Mosquera**\n",
        "\n",
        "**Comisión 49175**\n",
        "\n",
        "**Data Science**\n",
        "\n",
        "\n",
        "# **Desafío Complementario: CrossValidation y mejora de modelos de ML**"
      ],
      "metadata": {
        "id": "dMWHmpNZWQ0-"
      }
    },
    {
      "cell_type": "markdown",
      "metadata": {
        "id": "qqux_HQDy3yx"
      },
      "source": [
        "# **1. Presentación del Proyecto**"
      ]
    },
    {
      "cell_type": "markdown",
      "metadata": {
        "id": "zh95W30Wyhv3"
      },
      "source": [
        "**Abstracto**"
      ]
    },
    {
      "cell_type": "markdown",
      "metadata": {
        "id": "rsHHAymuy-1t"
      },
      "source": [
        "Poder establecer el precio de venta de un vehículo para ser competitivo va a depender de las características propias del mismo, pero también de las opciones que ofrece el mercado automotriz.\n",
        "\n",
        "Australia presenta un mercado próspero y competitivo en dicha materia, con una gran selección de automóviles para satisfacer diversas demandas y gustos. Es así como, algunas marcas se han destacado repetidamente por presentar los vehículos más vendidos del pais. El rendimiento, la confiabilidad y las características del vehículo en general son algunos de los elementos que han contribuido al éxito de estas ventas.\n",
        "\n",
        "El modelo de auto más vendido en Australia en 2023 fue el Toyota Hilux, con 32.763 vehículos vendidos, seguido por la Ford Ranger en segunda posición con 31.884 vehículos vendidos. El MG ZS de MG (marca China) consiguió la tercera posición, vendiendo 17.431 vehículos, lo que supone un impresionante aumento interanual de 1.68 veces, superando al eterno éxito de ventas, el Toyota RAV4.**\n",
        "\n",
        "El conjunto de datos elegido contiene la información más reciente sobre los precios de vehículos en Australia para el año 2023. También se incluyen diversos aspectos importantes para el mercado automotriz, que se describen más adelante, y que proporcionan información útil sobre las tendencias y los factores que influyen en los precios de los vehículos.\n",
        "\n",
        "El presente proyecto busca definir un modelo que permita estimar el precio de venta de un vehículo con base a las características que más influyen en ello.\n",
        "\n",
        "\n",
        "\n",
        "\n",
        "\n",
        "** Tomado de: https://www.autouserguide.com/es/Blogs/Revisi%C3%B3n-de-expertos-de-los-diez-autos-m%C3%A1s-vendidos-en-Australia-en-2023/"
      ]
    },
    {
      "cell_type": "markdown",
      "metadata": {
        "id": "0Se5nGmAhAgb"
      },
      "source": [
        "Los siguientes son detalles de las columnas mas importantes del set de datos:  \n",
        "\n",
        "- Brand (Marca): es el nombre del fabricante del vehículo.\n",
        "\n",
        "- Year (Año): se refiere al año de fabricación o lanzamiento.\n",
        "\n",
        "- Model (Modelo): Nombre o código del modelo del vehiculo.\n",
        "\n",
        "- UsedOrNew (Usado/Nuevo): se refiere a la condición del vehiculo (usado o nuevo).\n",
        "\n",
        "- Transmission (Transmisión): define el tipo de transmisión (manual, o automática).\n",
        "\n",
        "- Engine (Motor): Refiere la capacidad del motor (en litros o KW).\n",
        "\n",
        "- DriveType (Tipo de Tracción): Define el tipo de tracción del vehículo.\n",
        "\n",
        "- FuelType (Tipo de combustible): indica el combustible que usa el vehículo (gasolina, diesel, hibrido o eléctrico)\n",
        "\n",
        "- FuelConsumtion (Consumo de combustible): establece el consumo de combustible en litros / 100 Km.\n",
        "\n",
        "- Kilometres (Kilometraje): Se refiere a la distancia recorrida por el veículo.\n",
        "\n",
        "- Location (Ubicación): Ubicación del vehículo (ciudad y estado).\n",
        "\n",
        "- CylindersinEngine (Cilindros del Motor): indica la cantidad de cilindros que presenta el motor del vehículo.\n",
        "\n",
        "- BodyType (Tipo de Cuerpo o forma): Se refiere a la forma del vehículo.\n",
        "\n",
        "- Doors (Puertas): Indica el número de puertas del vehículo.\n",
        "\n",
        "- Seats (Asientos): Indica el número de asientos del vehículo.\n",
        "\n",
        "- Price (Precio): Precio del auto (dado en dolares australianos)."
      ]
    },
    {
      "cell_type": "markdown",
      "metadata": {
        "id": "QtzcUB1hyxo8"
      },
      "source": [
        "**Objetivo**"
      ]
    },
    {
      "cell_type": "markdown",
      "metadata": {
        "id": "02FLNJHRzCoC"
      },
      "source": [
        "Definir un modelo que permita estimar el precio de venta de un vehículo con base a las variables que presenta. Para ello, utilizaremos algoritmos de aprendizaje supervisado, más precisamente, algoritmos de regresión, ya que permiten predecir valores continuos (el Precio del vehículo, en este caso)."
      ]
    },
    {
      "cell_type": "markdown",
      "metadata": {
        "id": "FGclEAbJzOKM"
      },
      "source": [
        "# **2. Lectura de datos y chequeo inicial**"
      ]
    },
    {
      "cell_type": "markdown",
      "metadata": {
        "id": "36q6qxWSzFh1"
      },
      "source": [
        "**Importación de librerías**"
      ]
    },
    {
      "cell_type": "code",
      "execution_count": 149,
      "metadata": {
        "id": "fl9UZcVTuMY5"
      },
      "outputs": [],
      "source": [
        "import pandas as pd\n",
        "import numpy as np\n",
        "import matplotlib as mpl\n",
        "import matplotlib.pyplot as plt\n",
        "import seaborn as sns\n",
        "import statsmodels.api as sm\n",
        "import sklearn\n",
        "import warnings\n",
        "warnings.filterwarnings('ignore')\n",
        "plt.style.use('seaborn-v0_8-whitegrid')"
      ]
    },
    {
      "cell_type": "markdown",
      "metadata": {
        "id": "hKksB-mi1FDE"
      },
      "source": [
        "**Configuración del entorno de Python en Google Colab**"
      ]
    },
    {
      "cell_type": "code",
      "execution_count": 150,
      "metadata": {
        "colab": {
          "base_uri": "https://localhost:8080/"
        },
        "id": "b_eBohs31Ksw",
        "outputId": "86118b26-6b30-41ae-a073-9b7290bb5e70"
      },
      "outputs": [
        {
          "output_type": "stream",
          "name": "stdout",
          "text": [
            "Drive already mounted at /content/gdrive; to attempt to forcibly remount, call drive.mount(\"/content/gdrive\", force_remount=True).\n"
          ]
        }
      ],
      "source": [
        "from google.colab import drive\n",
        "import os\n",
        "drive.mount ('/content/gdrive')"
      ]
    },
    {
      "cell_type": "markdown",
      "metadata": {
        "id": "Cxm2-3Qo1O5y"
      },
      "source": [
        "**Lectura del dataset**"
      ]
    },
    {
      "cell_type": "markdown",
      "metadata": {
        "id": "sZ9jUVGc1dev"
      },
      "source": [
        "Vamos a tomar el dataset trabajado en la segunda entrega del proyecto final, el cual se puede desacargar ya limpio después del análisis multivariado."
      ]
    },
    {
      "cell_type": "code",
      "execution_count": 151,
      "metadata": {
        "colab": {
          "base_uri": "https://localhost:8080/"
        },
        "id": "P1VUPHc-1VP0",
        "outputId": "2362a588-3e13-4649-ca08-dd8977ec9cd1"
      },
      "outputs": [
        {
          "output_type": "stream",
          "name": "stdout",
          "text": [
            "/content/gdrive/MyDrive/Data Science/Proyecto Final/Colab Notebooks/Bases de Datos\n"
          ]
        }
      ],
      "source": [
        "%cd '/content/gdrive/MyDrive/Data Science/Proyecto Final/Colab Notebooks/Bases de Datos'\n",
        "df= pd.read_excel('Vehículos_Australia_clean2_df.xlsx')"
      ]
    },
    {
      "cell_type": "markdown",
      "metadata": {
        "id": "PynK7ws12q1v"
      },
      "source": [
        "**Análisis inicial del dataset**"
      ]
    },
    {
      "cell_type": "code",
      "source": [
        "df.head()"
      ],
      "metadata": {
        "colab": {
          "base_uri": "https://localhost:8080/",
          "height": 206
        },
        "id": "nGlwR34ZRHUY",
        "outputId": "0209f1fa-f393-476e-91b8-25f1ba601d91"
      },
      "execution_count": 152,
      "outputs": [
        {
          "output_type": "execute_result",
          "data": {
            "text/plain": [
              "   Year  UsedOrNew  Transmission DriveType  FuelType  Kilometres   BodyType  \\\n",
              "0  2022          2             0       AWD    Diesel        5595        SUV   \n",
              "1  2022          0             0     Front   Premium          16  Hatchback   \n",
              "2  2022          0             0      Rear   Premium        8472      Coupe   \n",
              "3  2011          0             0      Rear   Premium      136517      Coupe   \n",
              "4  2022          0             0     Front  Unleaded        1035        SUV   \n",
              "\n",
              "   Doors  Seats   Price                   Brand          Engine  \\\n",
              "0      4      7   51990  Marca de Corea del Sur  Motor Estandar   \n",
              "1      5      5   19990             Marca China  Motor Estandar   \n",
              "2      2      4  108988           Marca Alemana  Motor Estandar   \n",
              "3      2      4   32990           Marca Alemana    Motor Grande   \n",
              "4      4      5   34990          Marca Francesa  Motor Estandar   \n",
              "\n",
              "  FuelConsumtion State  \n",
              "0  Consumo Medio   NSW  \n",
              "1  Consumo Medio   NSW  \n",
              "2  Consumo Medio   NSW  \n",
              "3   Consumo Alto   NSW  \n",
              "4  Consumo Medio   NSW  "
            ],
            "text/html": [
              "\n",
              "  <div id=\"df-9863207c-aaca-45ce-a009-7c0dc5282632\" class=\"colab-df-container\">\n",
              "    <div>\n",
              "<style scoped>\n",
              "    .dataframe tbody tr th:only-of-type {\n",
              "        vertical-align: middle;\n",
              "    }\n",
              "\n",
              "    .dataframe tbody tr th {\n",
              "        vertical-align: top;\n",
              "    }\n",
              "\n",
              "    .dataframe thead th {\n",
              "        text-align: right;\n",
              "    }\n",
              "</style>\n",
              "<table border=\"1\" class=\"dataframe\">\n",
              "  <thead>\n",
              "    <tr style=\"text-align: right;\">\n",
              "      <th></th>\n",
              "      <th>Year</th>\n",
              "      <th>UsedOrNew</th>\n",
              "      <th>Transmission</th>\n",
              "      <th>DriveType</th>\n",
              "      <th>FuelType</th>\n",
              "      <th>Kilometres</th>\n",
              "      <th>BodyType</th>\n",
              "      <th>Doors</th>\n",
              "      <th>Seats</th>\n",
              "      <th>Price</th>\n",
              "      <th>Brand</th>\n",
              "      <th>Engine</th>\n",
              "      <th>FuelConsumtion</th>\n",
              "      <th>State</th>\n",
              "    </tr>\n",
              "  </thead>\n",
              "  <tbody>\n",
              "    <tr>\n",
              "      <th>0</th>\n",
              "      <td>2022</td>\n",
              "      <td>2</td>\n",
              "      <td>0</td>\n",
              "      <td>AWD</td>\n",
              "      <td>Diesel</td>\n",
              "      <td>5595</td>\n",
              "      <td>SUV</td>\n",
              "      <td>4</td>\n",
              "      <td>7</td>\n",
              "      <td>51990</td>\n",
              "      <td>Marca de Corea del Sur</td>\n",
              "      <td>Motor Estandar</td>\n",
              "      <td>Consumo Medio</td>\n",
              "      <td>NSW</td>\n",
              "    </tr>\n",
              "    <tr>\n",
              "      <th>1</th>\n",
              "      <td>2022</td>\n",
              "      <td>0</td>\n",
              "      <td>0</td>\n",
              "      <td>Front</td>\n",
              "      <td>Premium</td>\n",
              "      <td>16</td>\n",
              "      <td>Hatchback</td>\n",
              "      <td>5</td>\n",
              "      <td>5</td>\n",
              "      <td>19990</td>\n",
              "      <td>Marca China</td>\n",
              "      <td>Motor Estandar</td>\n",
              "      <td>Consumo Medio</td>\n",
              "      <td>NSW</td>\n",
              "    </tr>\n",
              "    <tr>\n",
              "      <th>2</th>\n",
              "      <td>2022</td>\n",
              "      <td>0</td>\n",
              "      <td>0</td>\n",
              "      <td>Rear</td>\n",
              "      <td>Premium</td>\n",
              "      <td>8472</td>\n",
              "      <td>Coupe</td>\n",
              "      <td>2</td>\n",
              "      <td>4</td>\n",
              "      <td>108988</td>\n",
              "      <td>Marca Alemana</td>\n",
              "      <td>Motor Estandar</td>\n",
              "      <td>Consumo Medio</td>\n",
              "      <td>NSW</td>\n",
              "    </tr>\n",
              "    <tr>\n",
              "      <th>3</th>\n",
              "      <td>2011</td>\n",
              "      <td>0</td>\n",
              "      <td>0</td>\n",
              "      <td>Rear</td>\n",
              "      <td>Premium</td>\n",
              "      <td>136517</td>\n",
              "      <td>Coupe</td>\n",
              "      <td>2</td>\n",
              "      <td>4</td>\n",
              "      <td>32990</td>\n",
              "      <td>Marca Alemana</td>\n",
              "      <td>Motor Grande</td>\n",
              "      <td>Consumo Alto</td>\n",
              "      <td>NSW</td>\n",
              "    </tr>\n",
              "    <tr>\n",
              "      <th>4</th>\n",
              "      <td>2022</td>\n",
              "      <td>0</td>\n",
              "      <td>0</td>\n",
              "      <td>Front</td>\n",
              "      <td>Unleaded</td>\n",
              "      <td>1035</td>\n",
              "      <td>SUV</td>\n",
              "      <td>4</td>\n",
              "      <td>5</td>\n",
              "      <td>34990</td>\n",
              "      <td>Marca Francesa</td>\n",
              "      <td>Motor Estandar</td>\n",
              "      <td>Consumo Medio</td>\n",
              "      <td>NSW</td>\n",
              "    </tr>\n",
              "  </tbody>\n",
              "</table>\n",
              "</div>\n",
              "    <div class=\"colab-df-buttons\">\n",
              "\n",
              "  <div class=\"colab-df-container\">\n",
              "    <button class=\"colab-df-convert\" onclick=\"convertToInteractive('df-9863207c-aaca-45ce-a009-7c0dc5282632')\"\n",
              "            title=\"Convert this dataframe to an interactive table.\"\n",
              "            style=\"display:none;\">\n",
              "\n",
              "  <svg xmlns=\"http://www.w3.org/2000/svg\" height=\"24px\" viewBox=\"0 -960 960 960\">\n",
              "    <path d=\"M120-120v-720h720v720H120Zm60-500h600v-160H180v160Zm220 220h160v-160H400v160Zm0 220h160v-160H400v160ZM180-400h160v-160H180v160Zm440 0h160v-160H620v160ZM180-180h160v-160H180v160Zm440 0h160v-160H620v160Z\"/>\n",
              "  </svg>\n",
              "    </button>\n",
              "\n",
              "  <style>\n",
              "    .colab-df-container {\n",
              "      display:flex;\n",
              "      gap: 12px;\n",
              "    }\n",
              "\n",
              "    .colab-df-convert {\n",
              "      background-color: #E8F0FE;\n",
              "      border: none;\n",
              "      border-radius: 50%;\n",
              "      cursor: pointer;\n",
              "      display: none;\n",
              "      fill: #1967D2;\n",
              "      height: 32px;\n",
              "      padding: 0 0 0 0;\n",
              "      width: 32px;\n",
              "    }\n",
              "\n",
              "    .colab-df-convert:hover {\n",
              "      background-color: #E2EBFA;\n",
              "      box-shadow: 0px 1px 2px rgba(60, 64, 67, 0.3), 0px 1px 3px 1px rgba(60, 64, 67, 0.15);\n",
              "      fill: #174EA6;\n",
              "    }\n",
              "\n",
              "    .colab-df-buttons div {\n",
              "      margin-bottom: 4px;\n",
              "    }\n",
              "\n",
              "    [theme=dark] .colab-df-convert {\n",
              "      background-color: #3B4455;\n",
              "      fill: #D2E3FC;\n",
              "    }\n",
              "\n",
              "    [theme=dark] .colab-df-convert:hover {\n",
              "      background-color: #434B5C;\n",
              "      box-shadow: 0px 1px 3px 1px rgba(0, 0, 0, 0.15);\n",
              "      filter: drop-shadow(0px 1px 2px rgba(0, 0, 0, 0.3));\n",
              "      fill: #FFFFFF;\n",
              "    }\n",
              "  </style>\n",
              "\n",
              "    <script>\n",
              "      const buttonEl =\n",
              "        document.querySelector('#df-9863207c-aaca-45ce-a009-7c0dc5282632 button.colab-df-convert');\n",
              "      buttonEl.style.display =\n",
              "        google.colab.kernel.accessAllowed ? 'block' : 'none';\n",
              "\n",
              "      async function convertToInteractive(key) {\n",
              "        const element = document.querySelector('#df-9863207c-aaca-45ce-a009-7c0dc5282632');\n",
              "        const dataTable =\n",
              "          await google.colab.kernel.invokeFunction('convertToInteractive',\n",
              "                                                    [key], {});\n",
              "        if (!dataTable) return;\n",
              "\n",
              "        const docLinkHtml = 'Like what you see? Visit the ' +\n",
              "          '<a target=\"_blank\" href=https://colab.research.google.com/notebooks/data_table.ipynb>data table notebook</a>'\n",
              "          + ' to learn more about interactive tables.';\n",
              "        element.innerHTML = '';\n",
              "        dataTable['output_type'] = 'display_data';\n",
              "        await google.colab.output.renderOutput(dataTable, element);\n",
              "        const docLink = document.createElement('div');\n",
              "        docLink.innerHTML = docLinkHtml;\n",
              "        element.appendChild(docLink);\n",
              "      }\n",
              "    </script>\n",
              "  </div>\n",
              "\n",
              "\n",
              "<div id=\"df-807bbbd2-ef42-4008-b29e-0c4655624fc9\">\n",
              "  <button class=\"colab-df-quickchart\" onclick=\"quickchart('df-807bbbd2-ef42-4008-b29e-0c4655624fc9')\"\n",
              "            title=\"Suggest charts\"\n",
              "            style=\"display:none;\">\n",
              "\n",
              "<svg xmlns=\"http://www.w3.org/2000/svg\" height=\"24px\"viewBox=\"0 0 24 24\"\n",
              "     width=\"24px\">\n",
              "    <g>\n",
              "        <path d=\"M19 3H5c-1.1 0-2 .9-2 2v14c0 1.1.9 2 2 2h14c1.1 0 2-.9 2-2V5c0-1.1-.9-2-2-2zM9 17H7v-7h2v7zm4 0h-2V7h2v10zm4 0h-2v-4h2v4z\"/>\n",
              "    </g>\n",
              "</svg>\n",
              "  </button>\n",
              "\n",
              "<style>\n",
              "  .colab-df-quickchart {\n",
              "      --bg-color: #E8F0FE;\n",
              "      --fill-color: #1967D2;\n",
              "      --hover-bg-color: #E2EBFA;\n",
              "      --hover-fill-color: #174EA6;\n",
              "      --disabled-fill-color: #AAA;\n",
              "      --disabled-bg-color: #DDD;\n",
              "  }\n",
              "\n",
              "  [theme=dark] .colab-df-quickchart {\n",
              "      --bg-color: #3B4455;\n",
              "      --fill-color: #D2E3FC;\n",
              "      --hover-bg-color: #434B5C;\n",
              "      --hover-fill-color: #FFFFFF;\n",
              "      --disabled-bg-color: #3B4455;\n",
              "      --disabled-fill-color: #666;\n",
              "  }\n",
              "\n",
              "  .colab-df-quickchart {\n",
              "    background-color: var(--bg-color);\n",
              "    border: none;\n",
              "    border-radius: 50%;\n",
              "    cursor: pointer;\n",
              "    display: none;\n",
              "    fill: var(--fill-color);\n",
              "    height: 32px;\n",
              "    padding: 0;\n",
              "    width: 32px;\n",
              "  }\n",
              "\n",
              "  .colab-df-quickchart:hover {\n",
              "    background-color: var(--hover-bg-color);\n",
              "    box-shadow: 0 1px 2px rgba(60, 64, 67, 0.3), 0 1px 3px 1px rgba(60, 64, 67, 0.15);\n",
              "    fill: var(--button-hover-fill-color);\n",
              "  }\n",
              "\n",
              "  .colab-df-quickchart-complete:disabled,\n",
              "  .colab-df-quickchart-complete:disabled:hover {\n",
              "    background-color: var(--disabled-bg-color);\n",
              "    fill: var(--disabled-fill-color);\n",
              "    box-shadow: none;\n",
              "  }\n",
              "\n",
              "  .colab-df-spinner {\n",
              "    border: 2px solid var(--fill-color);\n",
              "    border-color: transparent;\n",
              "    border-bottom-color: var(--fill-color);\n",
              "    animation:\n",
              "      spin 1s steps(1) infinite;\n",
              "  }\n",
              "\n",
              "  @keyframes spin {\n",
              "    0% {\n",
              "      border-color: transparent;\n",
              "      border-bottom-color: var(--fill-color);\n",
              "      border-left-color: var(--fill-color);\n",
              "    }\n",
              "    20% {\n",
              "      border-color: transparent;\n",
              "      border-left-color: var(--fill-color);\n",
              "      border-top-color: var(--fill-color);\n",
              "    }\n",
              "    30% {\n",
              "      border-color: transparent;\n",
              "      border-left-color: var(--fill-color);\n",
              "      border-top-color: var(--fill-color);\n",
              "      border-right-color: var(--fill-color);\n",
              "    }\n",
              "    40% {\n",
              "      border-color: transparent;\n",
              "      border-right-color: var(--fill-color);\n",
              "      border-top-color: var(--fill-color);\n",
              "    }\n",
              "    60% {\n",
              "      border-color: transparent;\n",
              "      border-right-color: var(--fill-color);\n",
              "    }\n",
              "    80% {\n",
              "      border-color: transparent;\n",
              "      border-right-color: var(--fill-color);\n",
              "      border-bottom-color: var(--fill-color);\n",
              "    }\n",
              "    90% {\n",
              "      border-color: transparent;\n",
              "      border-bottom-color: var(--fill-color);\n",
              "    }\n",
              "  }\n",
              "</style>\n",
              "\n",
              "  <script>\n",
              "    async function quickchart(key) {\n",
              "      const quickchartButtonEl =\n",
              "        document.querySelector('#' + key + ' button');\n",
              "      quickchartButtonEl.disabled = true;  // To prevent multiple clicks.\n",
              "      quickchartButtonEl.classList.add('colab-df-spinner');\n",
              "      try {\n",
              "        const charts = await google.colab.kernel.invokeFunction(\n",
              "            'suggestCharts', [key], {});\n",
              "      } catch (error) {\n",
              "        console.error('Error during call to suggestCharts:', error);\n",
              "      }\n",
              "      quickchartButtonEl.classList.remove('colab-df-spinner');\n",
              "      quickchartButtonEl.classList.add('colab-df-quickchart-complete');\n",
              "    }\n",
              "    (() => {\n",
              "      let quickchartButtonEl =\n",
              "        document.querySelector('#df-807bbbd2-ef42-4008-b29e-0c4655624fc9 button');\n",
              "      quickchartButtonEl.style.display =\n",
              "        google.colab.kernel.accessAllowed ? 'block' : 'none';\n",
              "    })();\n",
              "  </script>\n",
              "</div>\n",
              "\n",
              "    </div>\n",
              "  </div>\n"
            ],
            "application/vnd.google.colaboratory.intrinsic+json": {
              "type": "dataframe",
              "variable_name": "df",
              "summary": "{\n  \"name\": \"df\",\n  \"rows\": 16566,\n  \"fields\": [\n    {\n      \"column\": \"Year\",\n      \"properties\": {\n        \"dtype\": \"number\",\n        \"std\": 5,\n        \"min\": 1985,\n        \"max\": 2023,\n        \"num_unique_values\": 37,\n        \"samples\": [\n          2010,\n          2005,\n          2000\n        ],\n        \"semantic_type\": \"\",\n        \"description\": \"\"\n      }\n    },\n    {\n      \"column\": \"UsedOrNew\",\n      \"properties\": {\n        \"dtype\": \"number\",\n        \"std\": 0,\n        \"min\": 0,\n        \"max\": 2,\n        \"num_unique_values\": 3,\n        \"samples\": [\n          2,\n          0,\n          1\n        ],\n        \"semantic_type\": \"\",\n        \"description\": \"\"\n      }\n    },\n    {\n      \"column\": \"Transmission\",\n      \"properties\": {\n        \"dtype\": \"number\",\n        \"std\": 0,\n        \"min\": 0,\n        \"max\": 1,\n        \"num_unique_values\": 2,\n        \"samples\": [\n          1,\n          0\n        ],\n        \"semantic_type\": \"\",\n        \"description\": \"\"\n      }\n    },\n    {\n      \"column\": \"DriveType\",\n      \"properties\": {\n        \"dtype\": \"category\",\n        \"num_unique_values\": 5,\n        \"samples\": [\n          \"Front\",\n          \"4WD\"\n        ],\n        \"semantic_type\": \"\",\n        \"description\": \"\"\n      }\n    },\n    {\n      \"column\": \"FuelType\",\n      \"properties\": {\n        \"dtype\": \"category\",\n        \"num_unique_values\": 8,\n        \"samples\": [\n          \"Premium\",\n          \"Electric\"\n        ],\n        \"semantic_type\": \"\",\n        \"description\": \"\"\n      }\n    },\n    {\n      \"column\": \"Kilometres\",\n      \"properties\": {\n        \"dtype\": \"number\",\n        \"std\": 76911,\n        \"min\": 1,\n        \"max\": 533849,\n        \"num_unique_values\": 14189,\n        \"samples\": [\n          128896,\n          123176\n        ],\n        \"semantic_type\": \"\",\n        \"description\": \"\"\n      }\n    },\n    {\n      \"column\": \"BodyType\",\n      \"properties\": {\n        \"dtype\": \"category\",\n        \"num_unique_values\": 11,\n        \"samples\": [\n          \"Wagon\",\n          \"SUV\"\n        ],\n        \"semantic_type\": \"\",\n        \"description\": \"\"\n      }\n    },\n    {\n      \"column\": \"Doors\",\n      \"properties\": {\n        \"dtype\": \"number\",\n        \"std\": 0,\n        \"min\": 2,\n        \"max\": 5,\n        \"num_unique_values\": 4,\n        \"samples\": [\n          5,\n          3\n        ],\n        \"semantic_type\": \"\",\n        \"description\": \"\"\n      }\n    },\n    {\n      \"column\": \"Seats\",\n      \"properties\": {\n        \"dtype\": \"number\",\n        \"std\": 1,\n        \"min\": 2,\n        \"max\": 22,\n        \"num_unique_values\": 13,\n        \"samples\": [\n          22,\n          11\n        ],\n        \"semantic_type\": \"\",\n        \"description\": \"\"\n      }\n    },\n    {\n      \"column\": \"Price\",\n      \"properties\": {\n        \"dtype\": \"number\",\n        \"std\": 33276,\n        \"min\": 880,\n        \"max\": 499990,\n        \"num_unique_values\": 3758,\n        \"samples\": [\n          28730,\n          37989\n        ],\n        \"semantic_type\": \"\",\n        \"description\": \"\"\n      }\n    },\n    {\n      \"column\": \"Brand\",\n      \"properties\": {\n        \"dtype\": \"category\",\n        \"num_unique_values\": 14,\n        \"samples\": [\n          \"Marca Australiana\",\n          \"Marca India\"\n        ],\n        \"semantic_type\": \"\",\n        \"description\": \"\"\n      }\n    },\n    {\n      \"column\": \"Engine\",\n      \"properties\": {\n        \"dtype\": \"category\",\n        \"num_unique_values\": 4,\n        \"samples\": [\n          \"Motor Grande\",\n          \"Motor Muy Grande\"\n        ],\n        \"semantic_type\": \"\",\n        \"description\": \"\"\n      }\n    },\n    {\n      \"column\": \"FuelConsumtion\",\n      \"properties\": {\n        \"dtype\": \"category\",\n        \"num_unique_values\": 4,\n        \"samples\": [\n          \"Consumo Alto\",\n          \"Consumo Muy Alto\"\n        ],\n        \"semantic_type\": \"\",\n        \"description\": \"\"\n      }\n    },\n    {\n      \"column\": \"State\",\n      \"properties\": {\n        \"dtype\": \"category\",\n        \"num_unique_values\": 9,\n        \"samples\": [\n          \"NT\",\n          \"VIC\"\n        ],\n        \"semantic_type\": \"\",\n        \"description\": \"\"\n      }\n    }\n  ]\n}"
            }
          },
          "metadata": {},
          "execution_count": 152
        }
      ]
    },
    {
      "cell_type": "code",
      "source": [
        "df.tail()"
      ],
      "metadata": {
        "colab": {
          "base_uri": "https://localhost:8080/",
          "height": 206
        },
        "id": "_lmuH5OMRJd1",
        "outputId": "07904448-ec59-4e3d-cbe9-a278b1a50e0f"
      },
      "execution_count": 153,
      "outputs": [
        {
          "output_type": "execute_result",
          "data": {
            "text/plain": [
              "       Year  UsedOrNew  Transmission DriveType  FuelType  Kilometres  \\\n",
              "16561  2014          0             0     Front  Unleaded       66000   \n",
              "16562  2012          0             0      Rear    Diesel      117432   \n",
              "16563  2022          2             0     Front  Unleaded        5165   \n",
              "16564  2016          0             0       AWD   Premium       85525   \n",
              "16565  2021          0             0      Rear  Unleaded       31852   \n",
              "\n",
              "          BodyType  Doors  Seats  Price           Brand          Engine  \\\n",
              "16561   Commercial      4      7  29500  Marca Japonesa  Motor Estandar   \n",
              "16562  Desconocido      4      5  39888   Marca Alemana  Motor Estandar   \n",
              "16563          SUV      4      5  35280  Marca Japonesa  Motor Estandar   \n",
              "16564          SUV      4      5  41888   Marca Alemana  Motor Estandar   \n",
              "16565        Sedan      4      5  65888   Marca Alemana  Motor Estandar   \n",
              "\n",
              "      FuelConsumtion State  \n",
              "16561  Consumo Medio   QLD  \n",
              "16562  Consumo Medio   VIC  \n",
              "16563  Consumo Medio   QLD  \n",
              "16564  Consumo Medio   QLD  \n",
              "16565  Consumo Medio   QLD  "
            ],
            "text/html": [
              "\n",
              "  <div id=\"df-10e12962-e7c9-4415-a5b3-e7a065aa2369\" class=\"colab-df-container\">\n",
              "    <div>\n",
              "<style scoped>\n",
              "    .dataframe tbody tr th:only-of-type {\n",
              "        vertical-align: middle;\n",
              "    }\n",
              "\n",
              "    .dataframe tbody tr th {\n",
              "        vertical-align: top;\n",
              "    }\n",
              "\n",
              "    .dataframe thead th {\n",
              "        text-align: right;\n",
              "    }\n",
              "</style>\n",
              "<table border=\"1\" class=\"dataframe\">\n",
              "  <thead>\n",
              "    <tr style=\"text-align: right;\">\n",
              "      <th></th>\n",
              "      <th>Year</th>\n",
              "      <th>UsedOrNew</th>\n",
              "      <th>Transmission</th>\n",
              "      <th>DriveType</th>\n",
              "      <th>FuelType</th>\n",
              "      <th>Kilometres</th>\n",
              "      <th>BodyType</th>\n",
              "      <th>Doors</th>\n",
              "      <th>Seats</th>\n",
              "      <th>Price</th>\n",
              "      <th>Brand</th>\n",
              "      <th>Engine</th>\n",
              "      <th>FuelConsumtion</th>\n",
              "      <th>State</th>\n",
              "    </tr>\n",
              "  </thead>\n",
              "  <tbody>\n",
              "    <tr>\n",
              "      <th>16561</th>\n",
              "      <td>2014</td>\n",
              "      <td>0</td>\n",
              "      <td>0</td>\n",
              "      <td>Front</td>\n",
              "      <td>Unleaded</td>\n",
              "      <td>66000</td>\n",
              "      <td>Commercial</td>\n",
              "      <td>4</td>\n",
              "      <td>7</td>\n",
              "      <td>29500</td>\n",
              "      <td>Marca Japonesa</td>\n",
              "      <td>Motor Estandar</td>\n",
              "      <td>Consumo Medio</td>\n",
              "      <td>QLD</td>\n",
              "    </tr>\n",
              "    <tr>\n",
              "      <th>16562</th>\n",
              "      <td>2012</td>\n",
              "      <td>0</td>\n",
              "      <td>0</td>\n",
              "      <td>Rear</td>\n",
              "      <td>Diesel</td>\n",
              "      <td>117432</td>\n",
              "      <td>Desconocido</td>\n",
              "      <td>4</td>\n",
              "      <td>5</td>\n",
              "      <td>39888</td>\n",
              "      <td>Marca Alemana</td>\n",
              "      <td>Motor Estandar</td>\n",
              "      <td>Consumo Medio</td>\n",
              "      <td>VIC</td>\n",
              "    </tr>\n",
              "    <tr>\n",
              "      <th>16563</th>\n",
              "      <td>2022</td>\n",
              "      <td>2</td>\n",
              "      <td>0</td>\n",
              "      <td>Front</td>\n",
              "      <td>Unleaded</td>\n",
              "      <td>5165</td>\n",
              "      <td>SUV</td>\n",
              "      <td>4</td>\n",
              "      <td>5</td>\n",
              "      <td>35280</td>\n",
              "      <td>Marca Japonesa</td>\n",
              "      <td>Motor Estandar</td>\n",
              "      <td>Consumo Medio</td>\n",
              "      <td>QLD</td>\n",
              "    </tr>\n",
              "    <tr>\n",
              "      <th>16564</th>\n",
              "      <td>2016</td>\n",
              "      <td>0</td>\n",
              "      <td>0</td>\n",
              "      <td>AWD</td>\n",
              "      <td>Premium</td>\n",
              "      <td>85525</td>\n",
              "      <td>SUV</td>\n",
              "      <td>4</td>\n",
              "      <td>5</td>\n",
              "      <td>41888</td>\n",
              "      <td>Marca Alemana</td>\n",
              "      <td>Motor Estandar</td>\n",
              "      <td>Consumo Medio</td>\n",
              "      <td>QLD</td>\n",
              "    </tr>\n",
              "    <tr>\n",
              "      <th>16565</th>\n",
              "      <td>2021</td>\n",
              "      <td>0</td>\n",
              "      <td>0</td>\n",
              "      <td>Rear</td>\n",
              "      <td>Unleaded</td>\n",
              "      <td>31852</td>\n",
              "      <td>Sedan</td>\n",
              "      <td>4</td>\n",
              "      <td>5</td>\n",
              "      <td>65888</td>\n",
              "      <td>Marca Alemana</td>\n",
              "      <td>Motor Estandar</td>\n",
              "      <td>Consumo Medio</td>\n",
              "      <td>QLD</td>\n",
              "    </tr>\n",
              "  </tbody>\n",
              "</table>\n",
              "</div>\n",
              "    <div class=\"colab-df-buttons\">\n",
              "\n",
              "  <div class=\"colab-df-container\">\n",
              "    <button class=\"colab-df-convert\" onclick=\"convertToInteractive('df-10e12962-e7c9-4415-a5b3-e7a065aa2369')\"\n",
              "            title=\"Convert this dataframe to an interactive table.\"\n",
              "            style=\"display:none;\">\n",
              "\n",
              "  <svg xmlns=\"http://www.w3.org/2000/svg\" height=\"24px\" viewBox=\"0 -960 960 960\">\n",
              "    <path d=\"M120-120v-720h720v720H120Zm60-500h600v-160H180v160Zm220 220h160v-160H400v160Zm0 220h160v-160H400v160ZM180-400h160v-160H180v160Zm440 0h160v-160H620v160ZM180-180h160v-160H180v160Zm440 0h160v-160H620v160Z\"/>\n",
              "  </svg>\n",
              "    </button>\n",
              "\n",
              "  <style>\n",
              "    .colab-df-container {\n",
              "      display:flex;\n",
              "      gap: 12px;\n",
              "    }\n",
              "\n",
              "    .colab-df-convert {\n",
              "      background-color: #E8F0FE;\n",
              "      border: none;\n",
              "      border-radius: 50%;\n",
              "      cursor: pointer;\n",
              "      display: none;\n",
              "      fill: #1967D2;\n",
              "      height: 32px;\n",
              "      padding: 0 0 0 0;\n",
              "      width: 32px;\n",
              "    }\n",
              "\n",
              "    .colab-df-convert:hover {\n",
              "      background-color: #E2EBFA;\n",
              "      box-shadow: 0px 1px 2px rgba(60, 64, 67, 0.3), 0px 1px 3px 1px rgba(60, 64, 67, 0.15);\n",
              "      fill: #174EA6;\n",
              "    }\n",
              "\n",
              "    .colab-df-buttons div {\n",
              "      margin-bottom: 4px;\n",
              "    }\n",
              "\n",
              "    [theme=dark] .colab-df-convert {\n",
              "      background-color: #3B4455;\n",
              "      fill: #D2E3FC;\n",
              "    }\n",
              "\n",
              "    [theme=dark] .colab-df-convert:hover {\n",
              "      background-color: #434B5C;\n",
              "      box-shadow: 0px 1px 3px 1px rgba(0, 0, 0, 0.15);\n",
              "      filter: drop-shadow(0px 1px 2px rgba(0, 0, 0, 0.3));\n",
              "      fill: #FFFFFF;\n",
              "    }\n",
              "  </style>\n",
              "\n",
              "    <script>\n",
              "      const buttonEl =\n",
              "        document.querySelector('#df-10e12962-e7c9-4415-a5b3-e7a065aa2369 button.colab-df-convert');\n",
              "      buttonEl.style.display =\n",
              "        google.colab.kernel.accessAllowed ? 'block' : 'none';\n",
              "\n",
              "      async function convertToInteractive(key) {\n",
              "        const element = document.querySelector('#df-10e12962-e7c9-4415-a5b3-e7a065aa2369');\n",
              "        const dataTable =\n",
              "          await google.colab.kernel.invokeFunction('convertToInteractive',\n",
              "                                                    [key], {});\n",
              "        if (!dataTable) return;\n",
              "\n",
              "        const docLinkHtml = 'Like what you see? Visit the ' +\n",
              "          '<a target=\"_blank\" href=https://colab.research.google.com/notebooks/data_table.ipynb>data table notebook</a>'\n",
              "          + ' to learn more about interactive tables.';\n",
              "        element.innerHTML = '';\n",
              "        dataTable['output_type'] = 'display_data';\n",
              "        await google.colab.output.renderOutput(dataTable, element);\n",
              "        const docLink = document.createElement('div');\n",
              "        docLink.innerHTML = docLinkHtml;\n",
              "        element.appendChild(docLink);\n",
              "      }\n",
              "    </script>\n",
              "  </div>\n",
              "\n",
              "\n",
              "<div id=\"df-906c1a7d-ef8e-48ef-ad6c-361e4468ccdc\">\n",
              "  <button class=\"colab-df-quickchart\" onclick=\"quickchart('df-906c1a7d-ef8e-48ef-ad6c-361e4468ccdc')\"\n",
              "            title=\"Suggest charts\"\n",
              "            style=\"display:none;\">\n",
              "\n",
              "<svg xmlns=\"http://www.w3.org/2000/svg\" height=\"24px\"viewBox=\"0 0 24 24\"\n",
              "     width=\"24px\">\n",
              "    <g>\n",
              "        <path d=\"M19 3H5c-1.1 0-2 .9-2 2v14c0 1.1.9 2 2 2h14c1.1 0 2-.9 2-2V5c0-1.1-.9-2-2-2zM9 17H7v-7h2v7zm4 0h-2V7h2v10zm4 0h-2v-4h2v4z\"/>\n",
              "    </g>\n",
              "</svg>\n",
              "  </button>\n",
              "\n",
              "<style>\n",
              "  .colab-df-quickchart {\n",
              "      --bg-color: #E8F0FE;\n",
              "      --fill-color: #1967D2;\n",
              "      --hover-bg-color: #E2EBFA;\n",
              "      --hover-fill-color: #174EA6;\n",
              "      --disabled-fill-color: #AAA;\n",
              "      --disabled-bg-color: #DDD;\n",
              "  }\n",
              "\n",
              "  [theme=dark] .colab-df-quickchart {\n",
              "      --bg-color: #3B4455;\n",
              "      --fill-color: #D2E3FC;\n",
              "      --hover-bg-color: #434B5C;\n",
              "      --hover-fill-color: #FFFFFF;\n",
              "      --disabled-bg-color: #3B4455;\n",
              "      --disabled-fill-color: #666;\n",
              "  }\n",
              "\n",
              "  .colab-df-quickchart {\n",
              "    background-color: var(--bg-color);\n",
              "    border: none;\n",
              "    border-radius: 50%;\n",
              "    cursor: pointer;\n",
              "    display: none;\n",
              "    fill: var(--fill-color);\n",
              "    height: 32px;\n",
              "    padding: 0;\n",
              "    width: 32px;\n",
              "  }\n",
              "\n",
              "  .colab-df-quickchart:hover {\n",
              "    background-color: var(--hover-bg-color);\n",
              "    box-shadow: 0 1px 2px rgba(60, 64, 67, 0.3), 0 1px 3px 1px rgba(60, 64, 67, 0.15);\n",
              "    fill: var(--button-hover-fill-color);\n",
              "  }\n",
              "\n",
              "  .colab-df-quickchart-complete:disabled,\n",
              "  .colab-df-quickchart-complete:disabled:hover {\n",
              "    background-color: var(--disabled-bg-color);\n",
              "    fill: var(--disabled-fill-color);\n",
              "    box-shadow: none;\n",
              "  }\n",
              "\n",
              "  .colab-df-spinner {\n",
              "    border: 2px solid var(--fill-color);\n",
              "    border-color: transparent;\n",
              "    border-bottom-color: var(--fill-color);\n",
              "    animation:\n",
              "      spin 1s steps(1) infinite;\n",
              "  }\n",
              "\n",
              "  @keyframes spin {\n",
              "    0% {\n",
              "      border-color: transparent;\n",
              "      border-bottom-color: var(--fill-color);\n",
              "      border-left-color: var(--fill-color);\n",
              "    }\n",
              "    20% {\n",
              "      border-color: transparent;\n",
              "      border-left-color: var(--fill-color);\n",
              "      border-top-color: var(--fill-color);\n",
              "    }\n",
              "    30% {\n",
              "      border-color: transparent;\n",
              "      border-left-color: var(--fill-color);\n",
              "      border-top-color: var(--fill-color);\n",
              "      border-right-color: var(--fill-color);\n",
              "    }\n",
              "    40% {\n",
              "      border-color: transparent;\n",
              "      border-right-color: var(--fill-color);\n",
              "      border-top-color: var(--fill-color);\n",
              "    }\n",
              "    60% {\n",
              "      border-color: transparent;\n",
              "      border-right-color: var(--fill-color);\n",
              "    }\n",
              "    80% {\n",
              "      border-color: transparent;\n",
              "      border-right-color: var(--fill-color);\n",
              "      border-bottom-color: var(--fill-color);\n",
              "    }\n",
              "    90% {\n",
              "      border-color: transparent;\n",
              "      border-bottom-color: var(--fill-color);\n",
              "    }\n",
              "  }\n",
              "</style>\n",
              "\n",
              "  <script>\n",
              "    async function quickchart(key) {\n",
              "      const quickchartButtonEl =\n",
              "        document.querySelector('#' + key + ' button');\n",
              "      quickchartButtonEl.disabled = true;  // To prevent multiple clicks.\n",
              "      quickchartButtonEl.classList.add('colab-df-spinner');\n",
              "      try {\n",
              "        const charts = await google.colab.kernel.invokeFunction(\n",
              "            'suggestCharts', [key], {});\n",
              "      } catch (error) {\n",
              "        console.error('Error during call to suggestCharts:', error);\n",
              "      }\n",
              "      quickchartButtonEl.classList.remove('colab-df-spinner');\n",
              "      quickchartButtonEl.classList.add('colab-df-quickchart-complete');\n",
              "    }\n",
              "    (() => {\n",
              "      let quickchartButtonEl =\n",
              "        document.querySelector('#df-906c1a7d-ef8e-48ef-ad6c-361e4468ccdc button');\n",
              "      quickchartButtonEl.style.display =\n",
              "        google.colab.kernel.accessAllowed ? 'block' : 'none';\n",
              "    })();\n",
              "  </script>\n",
              "</div>\n",
              "\n",
              "    </div>\n",
              "  </div>\n"
            ],
            "application/vnd.google.colaboratory.intrinsic+json": {
              "type": "dataframe",
              "summary": "{\n  \"name\": \"df\",\n  \"rows\": 5,\n  \"fields\": [\n    {\n      \"column\": \"Year\",\n      \"properties\": {\n        \"dtype\": \"number\",\n        \"std\": 4,\n        \"min\": 2012,\n        \"max\": 2022,\n        \"num_unique_values\": 5,\n        \"samples\": [\n          2012,\n          2021,\n          2022\n        ],\n        \"semantic_type\": \"\",\n        \"description\": \"\"\n      }\n    },\n    {\n      \"column\": \"UsedOrNew\",\n      \"properties\": {\n        \"dtype\": \"number\",\n        \"std\": 0,\n        \"min\": 0,\n        \"max\": 2,\n        \"num_unique_values\": 2,\n        \"samples\": [\n          2,\n          0\n        ],\n        \"semantic_type\": \"\",\n        \"description\": \"\"\n      }\n    },\n    {\n      \"column\": \"Transmission\",\n      \"properties\": {\n        \"dtype\": \"number\",\n        \"std\": 0,\n        \"min\": 0,\n        \"max\": 0,\n        \"num_unique_values\": 1,\n        \"samples\": [\n          0\n        ],\n        \"semantic_type\": \"\",\n        \"description\": \"\"\n      }\n    },\n    {\n      \"column\": \"DriveType\",\n      \"properties\": {\n        \"dtype\": \"string\",\n        \"num_unique_values\": 3,\n        \"samples\": [\n          \"Front\"\n        ],\n        \"semantic_type\": \"\",\n        \"description\": \"\"\n      }\n    },\n    {\n      \"column\": \"FuelType\",\n      \"properties\": {\n        \"dtype\": \"string\",\n        \"num_unique_values\": 3,\n        \"samples\": [\n          \"Unleaded\"\n        ],\n        \"semantic_type\": \"\",\n        \"description\": \"\"\n      }\n    },\n    {\n      \"column\": \"Kilometres\",\n      \"properties\": {\n        \"dtype\": \"number\",\n        \"std\": 44096,\n        \"min\": 5165,\n        \"max\": 117432,\n        \"num_unique_values\": 5,\n        \"samples\": [\n          117432\n        ],\n        \"semantic_type\": \"\",\n        \"description\": \"\"\n      }\n    },\n    {\n      \"column\": \"BodyType\",\n      \"properties\": {\n        \"dtype\": \"string\",\n        \"num_unique_values\": 4,\n        \"samples\": [\n          \"Desconocido\"\n        ],\n        \"semantic_type\": \"\",\n        \"description\": \"\"\n      }\n    },\n    {\n      \"column\": \"Doors\",\n      \"properties\": {\n        \"dtype\": \"number\",\n        \"std\": 0,\n        \"min\": 4,\n        \"max\": 4,\n        \"num_unique_values\": 1,\n        \"samples\": [\n          4\n        ],\n        \"semantic_type\": \"\",\n        \"description\": \"\"\n      }\n    },\n    {\n      \"column\": \"Seats\",\n      \"properties\": {\n        \"dtype\": \"number\",\n        \"std\": 0,\n        \"min\": 5,\n        \"max\": 7,\n        \"num_unique_values\": 2,\n        \"samples\": [\n          5\n        ],\n        \"semantic_type\": \"\",\n        \"description\": \"\"\n      }\n    },\n    {\n      \"column\": \"Price\",\n      \"properties\": {\n        \"dtype\": \"number\",\n        \"std\": 13922,\n        \"min\": 29500,\n        \"max\": 65888,\n        \"num_unique_values\": 5,\n        \"samples\": [\n          39888\n        ],\n        \"semantic_type\": \"\",\n        \"description\": \"\"\n      }\n    },\n    {\n      \"column\": \"Brand\",\n      \"properties\": {\n        \"dtype\": \"category\",\n        \"num_unique_values\": 2,\n        \"samples\": [\n          \"Marca Alemana\"\n        ],\n        \"semantic_type\": \"\",\n        \"description\": \"\"\n      }\n    },\n    {\n      \"column\": \"Engine\",\n      \"properties\": {\n        \"dtype\": \"category\",\n        \"num_unique_values\": 1,\n        \"samples\": [\n          \"Motor Estandar\"\n        ],\n        \"semantic_type\": \"\",\n        \"description\": \"\"\n      }\n    },\n    {\n      \"column\": \"FuelConsumtion\",\n      \"properties\": {\n        \"dtype\": \"category\",\n        \"num_unique_values\": 1,\n        \"samples\": [\n          \"Consumo Medio\"\n        ],\n        \"semantic_type\": \"\",\n        \"description\": \"\"\n      }\n    },\n    {\n      \"column\": \"State\",\n      \"properties\": {\n        \"dtype\": \"category\",\n        \"num_unique_values\": 2,\n        \"samples\": [\n          \"VIC\"\n        ],\n        \"semantic_type\": \"\",\n        \"description\": \"\"\n      }\n    }\n  ]\n}"
            }
          },
          "metadata": {},
          "execution_count": 153
        }
      ]
    },
    {
      "cell_type": "code",
      "source": [
        "df.shape"
      ],
      "metadata": {
        "colab": {
          "base_uri": "https://localhost:8080/"
        },
        "id": "C62tnpKYRL8y",
        "outputId": "cc9eb89d-242b-4a93-8564-f7d4bd6f1ca8"
      },
      "execution_count": 154,
      "outputs": [
        {
          "output_type": "execute_result",
          "data": {
            "text/plain": [
              "(16566, 14)"
            ]
          },
          "metadata": {},
          "execution_count": 154
        }
      ]
    },
    {
      "cell_type": "code",
      "source": [
        "df.info()"
      ],
      "metadata": {
        "colab": {
          "base_uri": "https://localhost:8080/"
        },
        "id": "3p9A8SJARM7h",
        "outputId": "b5da38fc-8a81-43cb-96ad-17497ade1b2b"
      },
      "execution_count": 155,
      "outputs": [
        {
          "output_type": "stream",
          "name": "stdout",
          "text": [
            "<class 'pandas.core.frame.DataFrame'>\n",
            "RangeIndex: 16566 entries, 0 to 16565\n",
            "Data columns (total 14 columns):\n",
            " #   Column          Non-Null Count  Dtype \n",
            "---  ------          --------------  ----- \n",
            " 0   Year            16566 non-null  int64 \n",
            " 1   UsedOrNew       16566 non-null  int64 \n",
            " 2   Transmission    16566 non-null  int64 \n",
            " 3   DriveType       16566 non-null  object\n",
            " 4   FuelType        16566 non-null  object\n",
            " 5   Kilometres      16566 non-null  int64 \n",
            " 6   BodyType        16566 non-null  object\n",
            " 7   Doors           16566 non-null  int64 \n",
            " 8   Seats           16566 non-null  int64 \n",
            " 9   Price           16566 non-null  int64 \n",
            " 10  Brand           16566 non-null  object\n",
            " 11  Engine          16566 non-null  object\n",
            " 12  FuelConsumtion  16566 non-null  object\n",
            " 13  State           16566 non-null  object\n",
            "dtypes: int64(7), object(7)\n",
            "memory usage: 1.8+ MB\n"
          ]
        }
      ]
    },
    {
      "cell_type": "markdown",
      "metadata": {
        "id": "8RdXd-DWEp7S"
      },
      "source": [
        "# **3. Segundo Feature Engineering**"
      ]
    },
    {
      "cell_type": "markdown",
      "source": [
        "Vamos a generar una nueva columna, llamada \"Age\" (\"edad del vehículo\") con el fin de incrementar nuestras variables independientes en el modelo. Ésta se calcula como \"Año Actual - Año (de fabricación):"
      ],
      "metadata": {
        "id": "IbkGP-x7ShxF"
      }
    },
    {
      "cell_type": "code",
      "source": [
        "df['Age'] = 2024 - df['Year']"
      ],
      "metadata": {
        "id": "2_isCpItRTU5"
      },
      "execution_count": 156,
      "outputs": []
    },
    {
      "cell_type": "markdown",
      "source": [
        "Ahora miremos la interacción entre la variable \"Kilometres\" y la variable \"Age\", recien creada:"
      ],
      "metadata": {
        "id": "xM3ddgt5lbRg"
      }
    },
    {
      "cell_type": "code",
      "source": [
        "plt.figure(figsize=(10, 6))\n",
        "sns.scatterplot(data=df, x='Age', y='Kilometres', hue= 'UsedOrNew', alpha=0.8, palette='dark:blue')\n",
        "plt.title('Interacción entre Edad y Kilometraje, según si es nuevo o usado')\n",
        "plt.xlabel('Age')\n",
        "plt.ylabel('Kilometres')\n",
        "plt.show()"
      ],
      "metadata": {
        "colab": {
          "base_uri": "https://localhost:8080/",
          "height": 557
        },
        "id": "hPBPXK2alpj9",
        "outputId": "6947d8cc-d0ae-4cfc-954e-e9e3dc27324d"
      },
      "execution_count": 157,
      "outputs": [
        {
          "output_type": "display_data",
          "data": {
            "text/plain": [
              "<Figure size 1000x600 with 1 Axes>"
            ],
            "image/png": "[encoded data removed]"
          },
          "metadata": {}
        }
      ]
    },
    {
      "cell_type": "markdown",
      "source": [
        "Se aprecia una mayor concentración de los datos para el caso de los vehículos que presentan una edad menor de 30 años. Por ahora vamos a conservar todos los datos con el fin de poder comparar los resultados obtenidos con los del desafío anterior.\n",
        "  "
      ],
      "metadata": {
        "id": "wMjDAfFAn0ed"
      }
    },
    {
      "cell_type": "markdown",
      "source": [
        "Ahora generamos una nueva variable a partir de la relación de Kilometraje/Años, la cual puede indicar el uso del vehículo y ayudar a predecir el precio."
      ],
      "metadata": {
        "id": "frATTCNlpUwg"
      }
    },
    {
      "cell_type": "code",
      "source": [
        "df['Kilometres_Per_Year'] = df['Kilometres'] / (2023 - df['Year'] + 1)\n",
        "df['Kilometres_Per_Year']"
      ],
      "metadata": {
        "colab": {
          "base_uri": "https://localhost:8080/"
        },
        "id": "S2rDkpcmon57",
        "outputId": "d718fe6d-aa86-48f4-c28d-a3f7287f2821"
      },
      "execution_count": 158,
      "outputs": [
        {
          "output_type": "execute_result",
          "data": {
            "text/plain": [
              "0         2797.500000\n",
              "1            8.000000\n",
              "2         4236.000000\n",
              "3        10501.307692\n",
              "4          517.500000\n",
              "             ...     \n",
              "16561     6600.000000\n",
              "16562     9786.000000\n",
              "16563     2582.500000\n",
              "16564    10690.625000\n",
              "16565    10617.333333\n",
              "Name: Kilometres_Per_Year, Length: 16566, dtype: float64"
            ]
          },
          "metadata": {},
          "execution_count": 158
        }
      ]
    },
    {
      "cell_type": "markdown",
      "source": [
        "Ahora nuestro dataframe presenta la siguiente información:"
      ],
      "metadata": {
        "id": "kNg3EIqLwfE4"
      }
    },
    {
      "cell_type": "code",
      "source": [
        "df.info()"
      ],
      "metadata": {
        "colab": {
          "base_uri": "https://localhost:8080/"
        },
        "id": "I_OysaRnlEn8",
        "outputId": "21b0144c-7cf1-4ca5-9a2a-3c3e0addd3b7"
      },
      "execution_count": 159,
      "outputs": [
        {
          "output_type": "stream",
          "name": "stdout",
          "text": [
            "<class 'pandas.core.frame.DataFrame'>\n",
            "RangeIndex: 16566 entries, 0 to 16565\n",
            "Data columns (total 16 columns):\n",
            " #   Column               Non-Null Count  Dtype  \n",
            "---  ------               --------------  -----  \n",
            " 0   Year                 16566 non-null  int64  \n",
            " 1   UsedOrNew            16566 non-null  int64  \n",
            " 2   Transmission         16566 non-null  int64  \n",
            " 3   DriveType            16566 non-null  object \n",
            " 4   FuelType             16566 non-null  object \n",
            " 5   Kilometres           16566 non-null  int64  \n",
            " 6   BodyType             16566 non-null  object \n",
            " 7   Doors                16566 non-null  int64  \n",
            " 8   Seats                16566 non-null  int64  \n",
            " 9   Price                16566 non-null  int64  \n",
            " 10  Brand                16566 non-null  object \n",
            " 11  Engine               16566 non-null  object \n",
            " 12  FuelConsumtion       16566 non-null  object \n",
            " 13  State                16566 non-null  object \n",
            " 14  Age                  16566 non-null  int64  \n",
            " 15  Kilometres_Per_Year  16566 non-null  float64\n",
            "dtypes: float64(1), int64(8), object(7)\n",
            "memory usage: 2.0+ MB\n"
          ]
        }
      ]
    },
    {
      "cell_type": "code",
      "execution_count": 160,
      "metadata": {
        "id": "58mzd5pSVysE",
        "colab": {
          "base_uri": "https://localhost:8080/",
          "height": 300
        },
        "outputId": "c07788da-2518-450e-dc77-11229634bea6"
      },
      "outputs": [
        {
          "output_type": "execute_result",
          "data": {
            "text/plain": [
              "              Year     UsedOrNew  Transmission     Kilometres         Doors  \\\n",
              "count  16566.00000  16566.000000  16566.000000   16566.000000  16566.000000   \n",
              "mean    2016.22854      0.128577      0.117349  100070.834239      4.005010   \n",
              "std        5.12260      0.413194      0.321845   76911.762104      0.658666   \n",
              "min     1985.00000      0.000000      0.000000       1.000000      2.000000   \n",
              "25%     2013.00000      0.000000      0.000000   43482.750000      4.000000   \n",
              "50%     2017.00000      0.000000      0.000000   86331.000000      4.000000   \n",
              "75%     2020.00000      0.000000      0.000000  144199.000000      4.000000   \n",
              "max     2023.00000      2.000000      1.000000  533849.000000      5.000000   \n",
              "\n",
              "              Seats          Price          Age  Kilometres_Per_Year  \n",
              "count  16566.000000   16566.000000  16566.00000         16566.000000  \n",
              "mean       5.094591   36850.967584      7.77146         14130.232050  \n",
              "std        1.073647   33276.761290      5.12260         14663.757317  \n",
              "min        2.000000     880.000000      1.00000             0.125000  \n",
              "25%        5.000000   18991.000000      4.00000          7414.727564  \n",
              "50%        5.000000   29065.000000      7.00000         11647.750000  \n",
              "75%        5.000000   43987.750000     11.00000         16184.802083  \n",
              "max       22.000000  499990.000000     39.00000         86331.000000  "
            ],
            "text/html": [
              "\n",
              "  <div id=\"df-ab526a62-6068-4572-8cda-e00f98a407d8\" class=\"colab-df-container\">\n",
              "    <div>\n",
              "<style scoped>\n",
              "    .dataframe tbody tr th:only-of-type {\n",
              "        vertical-align: middle;\n",
              "    }\n",
              "\n",
              "    .dataframe tbody tr th {\n",
              "        vertical-align: top;\n",
              "    }\n",
              "\n",
              "    .dataframe thead th {\n",
              "        text-align: right;\n",
              "    }\n",
              "</style>\n",
              "<table border=\"1\" class=\"dataframe\">\n",
              "  <thead>\n",
              "    <tr style=\"text-align: right;\">\n",
              "      <th></th>\n",
              "      <th>Year</th>\n",
              "      <th>UsedOrNew</th>\n",
              "      <th>Transmission</th>\n",
              "      <th>Kilometres</th>\n",
              "      <th>Doors</th>\n",
              "      <th>Seats</th>\n",
              "      <th>Price</th>\n",
              "      <th>Age</th>\n",
              "      <th>Kilometres_Per_Year</th>\n",
              "    </tr>\n",
              "  </thead>\n",
              "  <tbody>\n",
              "    <tr>\n",
              "      <th>count</th>\n",
              "      <td>16566.00000</td>\n",
              "      <td>16566.000000</td>\n",
              "      <td>16566.000000</td>\n",
              "      <td>16566.000000</td>\n",
              "      <td>16566.000000</td>\n",
              "      <td>16566.000000</td>\n",
              "      <td>16566.000000</td>\n",
              "      <td>16566.00000</td>\n",
              "      <td>16566.000000</td>\n",
              "    </tr>\n",
              "    <tr>\n",
              "      <th>mean</th>\n",
              "      <td>2016.22854</td>\n",
              "      <td>0.128577</td>\n",
              "      <td>0.117349</td>\n",
              "      <td>100070.834239</td>\n",
              "      <td>4.005010</td>\n",
              "      <td>5.094591</td>\n",
              "      <td>36850.967584</td>\n",
              "      <td>7.77146</td>\n",
              "      <td>14130.232050</td>\n",
              "    </tr>\n",
              "    <tr>\n",
              "      <th>std</th>\n",
              "      <td>5.12260</td>\n",
              "      <td>0.413194</td>\n",
              "      <td>0.321845</td>\n",
              "      <td>76911.762104</td>\n",
              "      <td>0.658666</td>\n",
              "      <td>1.073647</td>\n",
              "      <td>33276.761290</td>\n",
              "      <td>5.12260</td>\n",
              "      <td>14663.757317</td>\n",
              "    </tr>\n",
              "    <tr>\n",
              "      <th>min</th>\n",
              "      <td>1985.00000</td>\n",
              "      <td>0.000000</td>\n",
              "      <td>0.000000</td>\n",
              "      <td>1.000000</td>\n",
              "      <td>2.000000</td>\n",
              "      <td>2.000000</td>\n",
              "      <td>880.000000</td>\n",
              "      <td>1.00000</td>\n",
              "      <td>0.125000</td>\n",
              "    </tr>\n",
              "    <tr>\n",
              "      <th>25%</th>\n",
              "      <td>2013.00000</td>\n",
              "      <td>0.000000</td>\n",
              "      <td>0.000000</td>\n",
              "      <td>43482.750000</td>\n",
              "      <td>4.000000</td>\n",
              "      <td>5.000000</td>\n",
              "      <td>18991.000000</td>\n",
              "      <td>4.00000</td>\n",
              "      <td>7414.727564</td>\n",
              "    </tr>\n",
              "    <tr>\n",
              "      <th>50%</th>\n",
              "      <td>2017.00000</td>\n",
              "      <td>0.000000</td>\n",
              "      <td>0.000000</td>\n",
              "      <td>86331.000000</td>\n",
              "      <td>4.000000</td>\n",
              "      <td>5.000000</td>\n",
              "      <td>29065.000000</td>\n",
              "      <td>7.00000</td>\n",
              "      <td>11647.750000</td>\n",
              "    </tr>\n",
              "    <tr>\n",
              "      <th>75%</th>\n",
              "      <td>2020.00000</td>\n",
              "      <td>0.000000</td>\n",
              "      <td>0.000000</td>\n",
              "      <td>144199.000000</td>\n",
              "      <td>4.000000</td>\n",
              "      <td>5.000000</td>\n",
              "      <td>43987.750000</td>\n",
              "      <td>11.00000</td>\n",
              "      <td>16184.802083</td>\n",
              "    </tr>\n",
              "    <tr>\n",
              "      <th>max</th>\n",
              "      <td>2023.00000</td>\n",
              "      <td>2.000000</td>\n",
              "      <td>1.000000</td>\n",
              "      <td>533849.000000</td>\n",
              "      <td>5.000000</td>\n",
              "      <td>22.000000</td>\n",
              "      <td>499990.000000</td>\n",
              "      <td>39.00000</td>\n",
              "      <td>86331.000000</td>\n",
              "    </tr>\n",
              "  </tbody>\n",
              "</table>\n",
              "</div>\n",
              "    <div class=\"colab-df-buttons\">\n",
              "\n",
              "  <div class=\"colab-df-container\">\n",
              "    <button class=\"colab-df-convert\" onclick=\"convertToInteractive('df-ab526a62-6068-4572-8cda-e00f98a407d8')\"\n",
              "            title=\"Convert this dataframe to an interactive table.\"\n",
              "            style=\"display:none;\">\n",
              "\n",
              "  <svg xmlns=\"http://www.w3.org/2000/svg\" height=\"24px\" viewBox=\"0 -960 960 960\">\n",
              "    <path d=\"M120-120v-720h720v720H120Zm60-500h600v-160H180v160Zm220 220h160v-160H400v160Zm0 220h160v-160H400v160ZM180-400h160v-160H180v160Zm440 0h160v-160H620v160ZM180-180h160v-160H180v160Zm440 0h160v-160H620v160Z\"/>\n",
              "  </svg>\n",
              "    </button>\n",
              "\n",
              "  <style>\n",
              "    .colab-df-container {\n",
              "      display:flex;\n",
              "      gap: 12px;\n",
              "    }\n",
              "\n",
              "    .colab-df-convert {\n",
              "      background-color: #E8F0FE;\n",
              "      border: none;\n",
              "      border-radius: 50%;\n",
              "      cursor: pointer;\n",
              "      display: none;\n",
              "      fill: #1967D2;\n",
              "      height: 32px;\n",
              "      padding: 0 0 0 0;\n",
              "      width: 32px;\n",
              "    }\n",
              "\n",
              "    .colab-df-convert:hover {\n",
              "      background-color: #E2EBFA;\n",
              "      box-shadow: 0px 1px 2px rgba(60, 64, 67, 0.3), 0px 1px 3px 1px rgba(60, 64, 67, 0.15);\n",
              "      fill: #174EA6;\n",
              "    }\n",
              "\n",
              "    .colab-df-buttons div {\n",
              "      margin-bottom: 4px;\n",
              "    }\n",
              "\n",
              "    [theme=dark] .colab-df-convert {\n",
              "      background-color: #3B4455;\n",
              "      fill: #D2E3FC;\n",
              "    }\n",
              "\n",
              "    [theme=dark] .colab-df-convert:hover {\n",
              "      background-color: #434B5C;\n",
              "      box-shadow: 0px 1px 3px 1px rgba(0, 0, 0, 0.15);\n",
              "      filter: drop-shadow(0px 1px 2px rgba(0, 0, 0, 0.3));\n",
              "      fill: #FFFFFF;\n",
              "    }\n",
              "  </style>\n",
              "\n",
              "    <script>\n",
              "      const buttonEl =\n",
              "        document.querySelector('#df-ab526a62-6068-4572-8cda-e00f98a407d8 button.colab-df-convert');\n",
              "      buttonEl.style.display =\n",
              "        google.colab.kernel.accessAllowed ? 'block' : 'none';\n",
              "\n",
              "      async function convertToInteractive(key) {\n",
              "        const element = document.querySelector('#df-ab526a62-6068-4572-8cda-e00f98a407d8');\n",
              "        const dataTable =\n",
              "          await google.colab.kernel.invokeFunction('convertToInteractive',\n",
              "                                                    [key], {});\n",
              "        if (!dataTable) return;\n",
              "\n",
              "        const docLinkHtml = 'Like what you see? Visit the ' +\n",
              "          '<a target=\"_blank\" href=https://colab.research.google.com/notebooks/data_table.ipynb>data table notebook</a>'\n",
              "          + ' to learn more about interactive tables.';\n",
              "        element.innerHTML = '';\n",
              "        dataTable['output_type'] = 'display_data';\n",
              "        await google.colab.output.renderOutput(dataTable, element);\n",
              "        const docLink = document.createElement('div');\n",
              "        docLink.innerHTML = docLinkHtml;\n",
              "        element.appendChild(docLink);\n",
              "      }\n",
              "    </script>\n",
              "  </div>\n",
              "\n",
              "\n",
              "<div id=\"df-7f1c10f7-53be-42aa-ba66-f826ad79fee9\">\n",
              "  <button class=\"colab-df-quickchart\" onclick=\"quickchart('df-7f1c10f7-53be-42aa-ba66-f826ad79fee9')\"\n",
              "            title=\"Suggest charts\"\n",
              "            style=\"display:none;\">\n",
              "\n",
              "<svg xmlns=\"http://www.w3.org/2000/svg\" height=\"24px\"viewBox=\"0 0 24 24\"\n",
              "     width=\"24px\">\n",
              "    <g>\n",
              "        <path d=\"M19 3H5c-1.1 0-2 .9-2 2v14c0 1.1.9 2 2 2h14c1.1 0 2-.9 2-2V5c0-1.1-.9-2-2-2zM9 17H7v-7h2v7zm4 0h-2V7h2v10zm4 0h-2v-4h2v4z\"/>\n",
              "    </g>\n",
              "</svg>\n",
              "  </button>\n",
              "\n",
              "<style>\n",
              "  .colab-df-quickchart {\n",
              "      --bg-color: #E8F0FE;\n",
              "      --fill-color: #1967D2;\n",
              "      --hover-bg-color: #E2EBFA;\n",
              "      --hover-fill-color: #174EA6;\n",
              "      --disabled-fill-color: #AAA;\n",
              "      --disabled-bg-color: #DDD;\n",
              "  }\n",
              "\n",
              "  [theme=dark] .colab-df-quickchart {\n",
              "      --bg-color: #3B4455;\n",
              "      --fill-color: #D2E3FC;\n",
              "      --hover-bg-color: #434B5C;\n",
              "      --hover-fill-color: #FFFFFF;\n",
              "      --disabled-bg-color: #3B4455;\n",
              "      --disabled-fill-color: #666;\n",
              "  }\n",
              "\n",
              "  .colab-df-quickchart {\n",
              "    background-color: var(--bg-color);\n",
              "    border: none;\n",
              "    border-radius: 50%;\n",
              "    cursor: pointer;\n",
              "    display: none;\n",
              "    fill: var(--fill-color);\n",
              "    height: 32px;\n",
              "    padding: 0;\n",
              "    width: 32px;\n",
              "  }\n",
              "\n",
              "  .colab-df-quickchart:hover {\n",
              "    background-color: var(--hover-bg-color);\n",
              "    box-shadow: 0 1px 2px rgba(60, 64, 67, 0.3), 0 1px 3px 1px rgba(60, 64, 67, 0.15);\n",
              "    fill: var(--button-hover-fill-color);\n",
              "  }\n",
              "\n",
              "  .colab-df-quickchart-complete:disabled,\n",
              "  .colab-df-quickchart-complete:disabled:hover {\n",
              "    background-color: var(--disabled-bg-color);\n",
              "    fill: var(--disabled-fill-color);\n",
              "    box-shadow: none;\n",
              "  }\n",
              "\n",
              "  .colab-df-spinner {\n",
              "    border: 2px solid var(--fill-color);\n",
              "    border-color: transparent;\n",
              "    border-bottom-color: var(--fill-color);\n",
              "    animation:\n",
              "      spin 1s steps(1) infinite;\n",
              "  }\n",
              "\n",
              "  @keyframes spin {\n",
              "    0% {\n",
              "      border-color: transparent;\n",
              "      border-bottom-color: var(--fill-color);\n",
              "      border-left-color: var(--fill-color);\n",
              "    }\n",
              "    20% {\n",
              "      border-color: transparent;\n",
              "      border-left-color: var(--fill-color);\n",
              "      border-top-color: var(--fill-color);\n",
              "    }\n",
              "    30% {\n",
              "      border-color: transparent;\n",
              "      border-left-color: var(--fill-color);\n",
              "      border-top-color: var(--fill-color);\n",
              "      border-right-color: var(--fill-color);\n",
              "    }\n",
              "    40% {\n",
              "      border-color: transparent;\n",
              "      border-right-color: var(--fill-color);\n",
              "      border-top-color: var(--fill-color);\n",
              "    }\n",
              "    60% {\n",
              "      border-color: transparent;\n",
              "      border-right-color: var(--fill-color);\n",
              "    }\n",
              "    80% {\n",
              "      border-color: transparent;\n",
              "      border-right-color: var(--fill-color);\n",
              "      border-bottom-color: var(--fill-color);\n",
              "    }\n",
              "    90% {\n",
              "      border-color: transparent;\n",
              "      border-bottom-color: var(--fill-color);\n",
              "    }\n",
              "  }\n",
              "</style>\n",
              "\n",
              "  <script>\n",
              "    async function quickchart(key) {\n",
              "      const quickchartButtonEl =\n",
              "        document.querySelector('#' + key + ' button');\n",
              "      quickchartButtonEl.disabled = true;  // To prevent multiple clicks.\n",
              "      quickchartButtonEl.classList.add('colab-df-spinner');\n",
              "      try {\n",
              "        const charts = await google.colab.kernel.invokeFunction(\n",
              "            'suggestCharts', [key], {});\n",
              "      } catch (error) {\n",
              "        console.error('Error during call to suggestCharts:', error);\n",
              "      }\n",
              "      quickchartButtonEl.classList.remove('colab-df-spinner');\n",
              "      quickchartButtonEl.classList.add('colab-df-quickchart-complete');\n",
              "    }\n",
              "    (() => {\n",
              "      let quickchartButtonEl =\n",
              "        document.querySelector('#df-7f1c10f7-53be-42aa-ba66-f826ad79fee9 button');\n",
              "      quickchartButtonEl.style.display =\n",
              "        google.colab.kernel.accessAllowed ? 'block' : 'none';\n",
              "    })();\n",
              "  </script>\n",
              "</div>\n",
              "\n",
              "    </div>\n",
              "  </div>\n"
            ],
            "application/vnd.google.colaboratory.intrinsic+json": {
              "type": "dataframe",
              "summary": "{\n  \"name\": \"df\",\n  \"rows\": 8,\n  \"fields\": [\n    {\n      \"column\": \"Year\",\n      \"properties\": {\n        \"dtype\": \"number\",\n        \"std\": 5293.684296547391,\n        \"min\": 5.12260042169788,\n        \"max\": 16566.0,\n        \"num_unique_values\": 8,\n        \"samples\": [\n          2016.228540383919,\n          2017.0,\n          16566.0\n        ],\n        \"semantic_type\": \"\",\n        \"description\": \"\"\n      }\n    },\n    {\n      \"column\": \"UsedOrNew\",\n      \"properties\": {\n        \"dtype\": \"number\",\n        \"std\": 5856.837129572173,\n        \"min\": 0.0,\n        \"max\": 16566.0,\n        \"num_unique_values\": 5,\n        \"samples\": [\n          0.12857660268018833,\n          2.0,\n          0.4131940939425598\n        ],\n        \"semantic_type\": \"\",\n        \"description\": \"\"\n      }\n    },\n    {\n      \"column\": \"Transmission\",\n      \"properties\": {\n        \"dtype\": \"number\",\n        \"std\": 5856.8927883154265,\n        \"min\": 0.0,\n        \"max\": 16566.0,\n        \"num_unique_values\": 5,\n        \"samples\": [\n          0.11734878667149584,\n          1.0,\n          0.3218451518407469\n        ],\n        \"semantic_type\": \"\",\n        \"description\": \"\"\n      }\n    },\n    {\n      \"column\": \"Kilometres\",\n      \"properties\": {\n        \"dtype\": \"number\",\n        \"std\": 171540.43059863418,\n        \"min\": 1.0,\n        \"max\": 533849.0,\n        \"num_unique_values\": 8,\n        \"samples\": [\n          100070.83423880236,\n          86331.0,\n          16566.0\n        ],\n        \"semantic_type\": \"\",\n        \"description\": \"\"\n      }\n    },\n    {\n      \"column\": \"Doors\",\n      \"properties\": {\n        \"dtype\": \"number\",\n        \"std\": 5855.770436814312,\n        \"min\": 0.6586664420897214,\n        \"max\": 16566.0,\n        \"num_unique_values\": 6,\n        \"samples\": [\n          16566.0,\n          4.005010261982374,\n          5.0\n        ],\n        \"semantic_type\": \"\",\n        \"description\": \"\"\n      }\n    },\n    {\n      \"column\": \"Seats\",\n      \"properties\": {\n        \"dtype\": \"number\",\n        \"std\": 5854.687771678328,\n        \"min\": 1.0736471037681958,\n        \"max\": 16566.0,\n        \"num_unique_values\": 6,\n        \"samples\": [\n          16566.0,\n          5.094591331643125,\n          22.0\n        ],\n        \"semantic_type\": \"\",\n        \"description\": \"\"\n      }\n    },\n    {\n      \"column\": \"Price\",\n      \"properties\": {\n        \"dtype\": \"number\",\n        \"std\": 168242.0056679444,\n        \"min\": 880.0,\n        \"max\": 499990.0,\n        \"num_unique_values\": 8,\n        \"samples\": [\n          36850.96758420862,\n          29065.0,\n          16566.0\n        ],\n        \"semantic_type\": \"\",\n        \"description\": \"\"\n      }\n    },\n    {\n      \"column\": \"Age\",\n      \"properties\": {\n        \"dtype\": \"number\",\n        \"std\": 5853.19486931154,\n        \"min\": 1.0,\n        \"max\": 16566.0,\n        \"num_unique_values\": 8,\n        \"samples\": [\n          7.77145961608113,\n          7.0,\n          16566.0\n        ],\n        \"semantic_type\": \"\",\n        \"description\": \"\"\n      }\n    },\n    {\n      \"column\": \"Kilometres_Per_Year\",\n      \"properties\": {\n        \"dtype\": \"number\",\n        \"std\": 27021.699778231614,\n        \"min\": 0.125,\n        \"max\": 86331.0,\n        \"num_unique_values\": 8,\n        \"samples\": [\n          14130.232049605407,\n          11647.75,\n          16566.0\n        ],\n        \"semantic_type\": \"\",\n        \"description\": \"\"\n      }\n    }\n  ]\n}"
            }
          },
          "metadata": {},
          "execution_count": 160
        }
      ],
      "source": [
        "df.describe()"
      ]
    },
    {
      "cell_type": "markdown",
      "metadata": {
        "id": "ZM7fq44GZHwa"
      },
      "source": [
        "# **4. Encoding**"
      ]
    },
    {
      "cell_type": "code",
      "source": [
        "from sklearn.model_selection import train_test_split, cross_val_score\n",
        "from sklearn.preprocessing import StandardScaler, OneHotEncoder, LabelEncoder\n",
        "from sklearn.compose import ColumnTransformer\n",
        "from sklearn.pipeline import Pipeline\n",
        "from sklearn.ensemble import RandomForestRegressor\n",
        "from sklearn.metrics import mean_squared_error, mean_absolute_error, r2_score"
      ],
      "metadata": {
        "id": "HcFHhe_mwlOw"
      },
      "execution_count": 161,
      "outputs": []
    },
    {
      "cell_type": "markdown",
      "source": [
        "Separamos las características y la variable objetivo:"
      ],
      "metadata": {
        "id": "VaxaKHSHkPQ9"
      }
    },
    {
      "cell_type": "code",
      "source": [
        "X = df.drop('Price', axis=1)\n",
        "y = df['Price']"
      ],
      "metadata": {
        "id": "gp77Hqb0jiY2"
      },
      "execution_count": 162,
      "outputs": []
    },
    {
      "cell_type": "markdown",
      "source": [
        "Dividimos los datos en conjuntos de entrenamiento y prueba"
      ],
      "metadata": {
        "id": "_GffIwR-kVEj"
      }
    },
    {
      "cell_type": "code",
      "source": [
        "X_train, X_test, y_train, y_test = train_test_split(X, y, test_size=0.2, random_state=42)"
      ],
      "metadata": {
        "id": "M0SPl6vjkagu"
      },
      "execution_count": 163,
      "outputs": []
    },
    {
      "cell_type": "markdown",
      "source": [
        "Realizamos el Preprocesamiento: codificación y escalado"
      ],
      "metadata": {
        "id": "RUjWpnTxkqQ9"
      }
    },
    {
      "cell_type": "code",
      "source": [
        "numeric_features = ['Year', 'UsedOrNew', 'Transmission', 'Kilometres', 'Doors', 'Seats', 'Age', 'Kilometres_Per_Year']\n",
        "categorical_features = ['DriveType', 'FuelType', 'BodyType', 'Brand', 'Engine', 'FuelConsumtion', 'State']"
      ],
      "metadata": {
        "id": "OCVxTiYDktDW"
      },
      "execution_count": 164,
      "outputs": []
    },
    {
      "cell_type": "code",
      "source": [
        "numeric_transformer = StandardScaler()\n",
        "categorical_transformer = OneHotEncoder(handle_unknown='ignore')"
      ],
      "metadata": {
        "id": "W54u0CMZlPRe"
      },
      "execution_count": 165,
      "outputs": []
    },
    {
      "cell_type": "markdown",
      "source": [
        "Creamos el primer pipeline con el transformador para cada tipo de variable:"
      ],
      "metadata": {
        "id": "VrVkDjSEll-J"
      }
    },
    {
      "cell_type": "code",
      "source": [
        "preprocessor = ColumnTransformer(\n",
        "    transformers=[\n",
        "        ('num', numeric_transformer, numeric_features),\n",
        "        ('cat', categorical_transformer, categorical_features)\n",
        "    ])"
      ],
      "metadata": {
        "id": "2qujzNtHlsIK"
      },
      "execution_count": 166,
      "outputs": []
    },
    {
      "cell_type": "markdown",
      "source": [
        "Crear el pipeline con Random Forest"
      ],
      "metadata": {
        "id": "VqqDBzgul0lE"
      }
    },
    {
      "cell_type": "code",
      "source": [
        "model = Pipeline(steps=[('preprocessor', preprocessor),\n",
        "                        ('classifier', RandomForestRegressor(random_state=42))])"
      ],
      "metadata": {
        "id": "d6vMGZMSl4J9"
      },
      "execution_count": 167,
      "outputs": []
    },
    {
      "cell_type": "markdown",
      "metadata": {
        "id": "UYXf66PGZRxg"
      },
      "source": [
        "# **5. Entrenamiento del modelo de RandomForestRegressor**"
      ]
    },
    {
      "cell_type": "markdown",
      "source": [
        "Vamos a realizar un entrenamiento al modelo de Random Forest con el objetivo de obtener las características de mayor importancia para el modelo:"
      ],
      "metadata": {
        "id": "1l0YaHN_m4GM"
      }
    },
    {
      "cell_type": "code",
      "source": [
        "model.fit(X_train, y_train)"
      ],
      "metadata": {
        "colab": {
          "base_uri": "https://localhost:8080/",
          "height": 191
        },
        "id": "dZ0W8R8Xmr5Y",
        "outputId": "823dcc28-81db-4c82-cfac-a28719c7cb55"
      },
      "execution_count": 168,
      "outputs": [
        {
          "output_type": "execute_result",
          "data": {
            "text/plain": [
              "Pipeline(steps=[('preprocessor',\n",
              "                 ColumnTransformer(transformers=[('num', StandardScaler(),\n",
              "                                                  ['Year', 'UsedOrNew',\n",
              "                                                   'Transmission', 'Kilometres',\n",
              "                                                   'Doors', 'Seats', 'Age',\n",
              "                                                   'Kilometres_Per_Year']),\n",
              "                                                 ('cat',\n",
              "                                                  OneHotEncoder(handle_unknown='ignore'),\n",
              "                                                  ['DriveType', 'FuelType',\n",
              "                                                   'BodyType', 'Brand',\n",
              "                                                   'Engine', 'FuelConsumtion',\n",
              "                                                   'State'])])),\n",
              "                ('classifier', RandomForestRegressor(random_state=42))])"
            ],
            "text/html": [
              "<style>#sk-container-id-7 {color: black;background-color: white;}#sk-container-id-7 pre{padding: 0;}#sk-container-id-7 div.sk-toggleable {background-color: white;}#sk-container-id-7 label.sk-toggleable__label {cursor: pointer;display: block;width: 100%;margin-bottom: 0;padding: 0.3em;box-sizing: border-box;text-align: center;}#sk-container-id-7 label.sk-toggleable__label-arrow:before {content: \"▸\";float: left;margin-right: 0.25em;color: #696969;}#sk-container-id-7 label.sk-toggleable__label-arrow:hover:before {color: black;}#sk-container-id-7 div.sk-estimator:hover label.sk-toggleable__label-arrow:before {color: black;}#sk-container-id-7 div.sk-toggleable__content {max-height: 0;max-width: 0;overflow: hidden;text-align: left;background-color: #f0f8ff;}#sk-container-id-7 div.sk-toggleable__content pre {margin: 0.2em;color: black;border-radius: 0.25em;background-color: #f0f8ff;}#sk-container-id-7 input.sk-toggleable__control:checked~div.sk-toggleable__content {max-height: 200px;max-width: 100%;overflow: auto;}#sk-container-id-7 input.sk-toggleable__control:checked~label.sk-toggleable__label-arrow:before {content: \"▾\";}#sk-container-id-7 div.sk-estimator input.sk-toggleable__control:checked~label.sk-toggleable__label {background-color: #d4ebff;}#sk-container-id-7 div.sk-label input.sk-toggleable__control:checked~label.sk-toggleable__label {background-color: #d4ebff;}#sk-container-id-7 input.sk-hidden--visually {border: 0;clip: rect(1px 1px 1px 1px);clip: rect(1px, 1px, 1px, 1px);height: 1px;margin: -1px;overflow: hidden;padding: 0;position: absolute;width: 1px;}#sk-container-id-7 div.sk-estimator {font-family: monospace;background-color: #f0f8ff;border: 1px dotted black;border-radius: 0.25em;box-sizing: border-box;margin-bottom: 0.5em;}#sk-container-id-7 div.sk-estimator:hover {background-color: #d4ebff;}#sk-container-id-7 div.sk-parallel-item::after {content: \"\";width: 100%;border-bottom: 1px solid gray;flex-grow: 1;}#sk-container-id-7 div.sk-label:hover label.sk-toggleable__label {background-color: #d4ebff;}#sk-container-id-7 div.sk-serial::before {content: \"\";position: absolute;border-left: 1px solid gray;box-sizing: border-box;top: 0;bottom: 0;left: 50%;z-index: 0;}#sk-container-id-7 div.sk-serial {display: flex;flex-direction: column;align-items: center;background-color: white;padding-right: 0.2em;padding-left: 0.2em;position: relative;}#sk-container-id-7 div.sk-item {position: relative;z-index: 1;}#sk-container-id-7 div.sk-parallel {display: flex;align-items: stretch;justify-content: center;background-color: white;position: relative;}#sk-container-id-7 div.sk-item::before, #sk-container-id-7 div.sk-parallel-item::before {content: \"\";position: absolute;border-left: 1px solid gray;box-sizing: border-box;top: 0;bottom: 0;left: 50%;z-index: -1;}#sk-container-id-7 div.sk-parallel-item {display: flex;flex-direction: column;z-index: 1;position: relative;background-color: white;}#sk-container-id-7 div.sk-parallel-item:first-child::after {align-self: flex-end;width: 50%;}#sk-container-id-7 div.sk-parallel-item:last-child::after {align-self: flex-start;width: 50%;}#sk-container-id-7 div.sk-parallel-item:only-child::after {width: 0;}#sk-container-id-7 div.sk-dashed-wrapped {border: 1px dashed gray;margin: 0 0.4em 0.5em 0.4em;box-sizing: border-box;padding-bottom: 0.4em;background-color: white;}#sk-container-id-7 div.sk-label label {font-family: monospace;font-weight: bold;display: inline-block;line-height: 1.2em;}#sk-container-id-7 div.sk-label-container {text-align: center;}#sk-container-id-7 div.sk-container {/* jupyter's `normalize.less` sets `[hidden] { display: none; }` but bootstrap.min.css set `[hidden] { display: none !important; }` so we also need the `!important` here to be able to override the default hidden behavior on the sphinx rendered scikit-learn.org. See: https://github.com/scikit-learn/scikit-learn/issues/21755 */display: inline-block !important;position: relative;}#sk-container-id-7 div.sk-text-repr-fallback {display: none;}</style><div id=\"sk-container-id-7\" class=\"sk-top-container\"><div class=\"sk-text-repr-fallback\"><pre>Pipeline(steps=[(&#x27;preprocessor&#x27;,\n",
              "                 ColumnTransformer(transformers=[(&#x27;num&#x27;, StandardScaler(),\n",
              "                                                  [&#x27;Year&#x27;, &#x27;UsedOrNew&#x27;,\n",
              "                                                   &#x27;Transmission&#x27;, &#x27;Kilometres&#x27;,\n",
              "                                                   &#x27;Doors&#x27;, &#x27;Seats&#x27;, &#x27;Age&#x27;,\n",
              "                                                   &#x27;Kilometres_Per_Year&#x27;]),\n",
              "                                                 (&#x27;cat&#x27;,\n",
              "                                                  OneHotEncoder(handle_unknown=&#x27;ignore&#x27;),\n",
              "                                                  [&#x27;DriveType&#x27;, &#x27;FuelType&#x27;,\n",
              "                                                   &#x27;BodyType&#x27;, &#x27;Brand&#x27;,\n",
              "                                                   &#x27;Engine&#x27;, &#x27;FuelConsumtion&#x27;,\n",
              "                                                   &#x27;State&#x27;])])),\n",
              "                (&#x27;classifier&#x27;, RandomForestRegressor(random_state=42))])</pre><b>In a Jupyter environment, please rerun this cell to show the HTML representation or trust the notebook. <br />On GitHub, the HTML representation is unable to render, please try loading this page with nbviewer.org.</b></div><div class=\"sk-container\" hidden><div class=\"sk-item sk-dashed-wrapped\"><div class=\"sk-label-container\"><div class=\"sk-label sk-toggleable\"><input class=\"sk-toggleable__control sk-hidden--visually\" id=\"sk-estimator-id-43\" type=\"checkbox\" ><label for=\"sk-estimator-id-43\" class=\"sk-toggleable__label sk-toggleable__label-arrow\">Pipeline</label><div class=\"sk-toggleable__content\"><pre>Pipeline(steps=[(&#x27;preprocessor&#x27;,\n",
              "                 ColumnTransformer(transformers=[(&#x27;num&#x27;, StandardScaler(),\n",
              "                                                  [&#x27;Year&#x27;, &#x27;UsedOrNew&#x27;,\n",
              "                                                   &#x27;Transmission&#x27;, &#x27;Kilometres&#x27;,\n",
              "                                                   &#x27;Doors&#x27;, &#x27;Seats&#x27;, &#x27;Age&#x27;,\n",
              "                                                   &#x27;Kilometres_Per_Year&#x27;]),\n",
              "                                                 (&#x27;cat&#x27;,\n",
              "                                                  OneHotEncoder(handle_unknown=&#x27;ignore&#x27;),\n",
              "                                                  [&#x27;DriveType&#x27;, &#x27;FuelType&#x27;,\n",
              "                                                   &#x27;BodyType&#x27;, &#x27;Brand&#x27;,\n",
              "                                                   &#x27;Engine&#x27;, &#x27;FuelConsumtion&#x27;,\n",
              "                                                   &#x27;State&#x27;])])),\n",
              "                (&#x27;classifier&#x27;, RandomForestRegressor(random_state=42))])</pre></div></div></div><div class=\"sk-serial\"><div class=\"sk-item sk-dashed-wrapped\"><div class=\"sk-label-container\"><div class=\"sk-label sk-toggleable\"><input class=\"sk-toggleable__control sk-hidden--visually\" id=\"sk-estimator-id-44\" type=\"checkbox\" ><label for=\"sk-estimator-id-44\" class=\"sk-toggleable__label sk-toggleable__label-arrow\">preprocessor: ColumnTransformer</label><div class=\"sk-toggleable__content\"><pre>ColumnTransformer(transformers=[(&#x27;num&#x27;, StandardScaler(),\n",
              "                                 [&#x27;Year&#x27;, &#x27;UsedOrNew&#x27;, &#x27;Transmission&#x27;,\n",
              "                                  &#x27;Kilometres&#x27;, &#x27;Doors&#x27;, &#x27;Seats&#x27;, &#x27;Age&#x27;,\n",
              "                                  &#x27;Kilometres_Per_Year&#x27;]),\n",
              "                                (&#x27;cat&#x27;, OneHotEncoder(handle_unknown=&#x27;ignore&#x27;),\n",
              "                                 [&#x27;DriveType&#x27;, &#x27;FuelType&#x27;, &#x27;BodyType&#x27;, &#x27;Brand&#x27;,\n",
              "                                  &#x27;Engine&#x27;, &#x27;FuelConsumtion&#x27;, &#x27;State&#x27;])])</pre></div></div></div><div class=\"sk-parallel\"><div class=\"sk-parallel-item\"><div class=\"sk-item\"><div class=\"sk-label-container\"><div class=\"sk-label sk-toggleable\"><input class=\"sk-toggleable__control sk-hidden--visually\" id=\"sk-estimator-id-45\" type=\"checkbox\" ><label for=\"sk-estimator-id-45\" class=\"sk-toggleable__label sk-toggleable__label-arrow\">num</label><div class=\"sk-toggleable__content\"><pre>[&#x27;Year&#x27;, &#x27;UsedOrNew&#x27;, &#x27;Transmission&#x27;, &#x27;Kilometres&#x27;, &#x27;Doors&#x27;, &#x27;Seats&#x27;, &#x27;Age&#x27;, &#x27;Kilometres_Per_Year&#x27;]</pre></div></div></div><div class=\"sk-serial\"><div class=\"sk-item\"><div class=\"sk-estimator sk-toggleable\"><input class=\"sk-toggleable__control sk-hidden--visually\" id=\"sk-estimator-id-46\" type=\"checkbox\" ><label for=\"sk-estimator-id-46\" class=\"sk-toggleable__label sk-toggleable__label-arrow\">StandardScaler</label><div class=\"sk-toggleable__content\"><pre>StandardScaler()</pre></div></div></div></div></div></div><div class=\"sk-parallel-item\"><div class=\"sk-item\"><div class=\"sk-label-container\"><div class=\"sk-label sk-toggleable\"><input class=\"sk-toggleable__control sk-hidden--visually\" id=\"sk-estimator-id-47\" type=\"checkbox\" ><label for=\"sk-estimator-id-47\" class=\"sk-toggleable__label sk-toggleable__label-arrow\">cat</label><div class=\"sk-toggleable__content\"><pre>[&#x27;DriveType&#x27;, &#x27;FuelType&#x27;, &#x27;BodyType&#x27;, &#x27;Brand&#x27;, &#x27;Engine&#x27;, &#x27;FuelConsumtion&#x27;, &#x27;State&#x27;]</pre></div></div></div><div class=\"sk-serial\"><div class=\"sk-item\"><div class=\"sk-estimator sk-toggleable\"><input class=\"sk-toggleable__control sk-hidden--visually\" id=\"sk-estimator-id-48\" type=\"checkbox\" ><label for=\"sk-estimator-id-48\" class=\"sk-toggleable__label sk-toggleable__label-arrow\">OneHotEncoder</label><div class=\"sk-toggleable__content\"><pre>OneHotEncoder(handle_unknown=&#x27;ignore&#x27;)</pre></div></div></div></div></div></div></div></div><div class=\"sk-item\"><div class=\"sk-estimator sk-toggleable\"><input class=\"sk-toggleable__control sk-hidden--visually\" id=\"sk-estimator-id-49\" type=\"checkbox\" ><label for=\"sk-estimator-id-49\" class=\"sk-toggleable__label sk-toggleable__label-arrow\">RandomForestRegressor</label><div class=\"sk-toggleable__content\"><pre>RandomForestRegressor(random_state=42)</pre></div></div></div></div></div></div></div>"
            ]
          },
          "metadata": {},
          "execution_count": 168
        }
      ]
    },
    {
      "cell_type": "code",
      "source": [
        "results = {}\n",
        "\n",
        "for model in [model]:\n",
        "    name = model.__class__.__name__\n",
        "    model.fit(X_train, y_train)\n",
        "\n",
        "    y_pred = model.predict(X_test)\n",
        "\n",
        "    mse = mean_squared_error(y_test, y_pred)\n",
        "    rmse = np.sqrt(mse)\n",
        "    mae = mean_absolute_error(y_test, y_pred)\n",
        "    mape = np.mean(np.abs((y_test - y_pred) / y_test)) * 100\n",
        "    rae = np.sum(np.abs(y_test - y_pred)) / np.sum(np.abs(y_test - np.mean(y_test)))\n",
        "    r2 = r2_score(y_test, y_pred)\n",
        "    n = X_test.shape[0]\n",
        "    p = X_test.shape[1]\n",
        "    r2_adjusted = 1 - (1 - r2) * (n - 1) / (n - p - 1)\n",
        "\n",
        "    results[name] = {\n",
        "        'MSE': mse,\n",
        "        'RMSE': rmse,\n",
        "        'MAE': mae,\n",
        "        'MAPE': mape,\n",
        "        'RAE': rae,\n",
        "        'R2': r2,\n",
        "        'R2_ajustado': r2_adjusted\n",
        "    }"
      ],
      "metadata": {
        "id": "dHxCx14-pS6x"
      },
      "execution_count": 169,
      "outputs": []
    },
    {
      "cell_type": "code",
      "source": [
        "# Mostrar resultados\n",
        "results_df = pd.DataFrame(results)\n",
        "print(results_df)"
      ],
      "metadata": {
        "colab": {
          "base_uri": "https://localhost:8080/"
        },
        "id": "_fgvOMjl6c3Y",
        "outputId": "c5cb4d8a-231c-4253-d48c-2a65e242d56d"
      },
      "execution_count": 170,
      "outputs": [
        {
          "output_type": "stream",
          "name": "stdout",
          "text": [
            "                 Pipeline\n",
            "MAE          7.026007e+03\n",
            "MAPE         2.045096e+01\n",
            "MSE          2.444766e+08\n",
            "R2           7.591862e-01\n",
            "R2_ajustado  7.580910e-01\n",
            "RAE          3.637035e-01\n",
            "RMSE         1.563575e+04\n"
          ]
        }
      ]
    },
    {
      "cell_type": "markdown",
      "source": [
        "# **6. Feature Importance**"
      ],
      "metadata": {
        "id": "cD7vMtqosqCr"
      }
    },
    {
      "cell_type": "markdown",
      "source": [
        "Definimos el siguiente comando para btener el grado de importancia de las características:"
      ],
      "metadata": {
        "id": "9CggMm6HnT_L"
      }
    },
    {
      "cell_type": "code",
      "source": [
        "importances = model.named_steps['classifier'].feature_importances_"
      ],
      "metadata": {
        "id": "WeoS4nK0rZrb"
      },
      "execution_count": 171,
      "outputs": []
    },
    {
      "cell_type": "markdown",
      "source": [
        "Obtenemos los nombres de las características después de OneHotEncoding"
      ],
      "metadata": {
        "id": "TjQEoLVkrdr2"
      }
    },
    {
      "cell_type": "code",
      "source": [
        "onehot_features = model.named_steps['preprocessor'].transformers_[1][1].get_feature_names_out(categorical_features)\n",
        "feature_names = np.concatenate([numeric_features, onehot_features])"
      ],
      "metadata": {
        "id": "gHVzgmXZrhXe"
      },
      "execution_count": 172,
      "outputs": []
    },
    {
      "cell_type": "markdown",
      "source": [
        "Creamos un DataFrame con las importancias"
      ],
      "metadata": {
        "id": "5XFq27tGroMU"
      }
    },
    {
      "cell_type": "code",
      "source": [
        "feature_importances = pd.DataFrame({'feature': feature_names, 'importance': importances})\n",
        "feature_importances = feature_importances.sort_values(by='importance', ascending=False)"
      ],
      "metadata": {
        "id": "kW5AmIuSrycT"
      },
      "execution_count": 173,
      "outputs": []
    },
    {
      "cell_type": "markdown",
      "source": [
        "Seleccionamos las características más importantes, para entrenar de nuevo con el modelo de Random Forest:"
      ],
      "metadata": {
        "id": "cMD4yJU7r3eI"
      }
    },
    {
      "cell_type": "code",
      "source": [
        "top_features = feature_importances['feature'].head(10).tolist()\n",
        "top_features"
      ],
      "metadata": {
        "colab": {
          "base_uri": "https://localhost:8080/"
        },
        "id": "Z3Ee9RzSsT28",
        "outputId": "3967c76e-ef8f-42b3-b920-5bd1e6d099dd"
      },
      "execution_count": 174,
      "outputs": [
        {
          "output_type": "execute_result",
          "data": {
            "text/plain": [
              "['Engine_Motor Grande',\n",
              " 'Year',\n",
              " 'Age',\n",
              " 'Kilometres',\n",
              " 'Engine_Motor Muy Grande',\n",
              " 'Kilometres_Per_Year',\n",
              " 'DriveType_Front',\n",
              " 'FuelType_Unleaded',\n",
              " 'State_Unknown',\n",
              " 'Seats']"
            ]
          },
          "metadata": {},
          "execution_count": 174
        }
      ]
    },
    {
      "cell_type": "markdown",
      "source": [
        "# **7. Evaluación del modelo con las características seleccionadas antes de la validación cruzada**"
      ],
      "metadata": {
        "id": "DI8JXW1a97Ph"
      }
    },
    {
      "cell_type": "markdown",
      "source": [
        "Filtramos el dataframe original para incluir solo las características más importantes. Y ajustamos los nombres de las características en el conjunto de entrenamiento y prueba"
      ],
      "metadata": {
        "id": "tX22bvyt-NCH"
      }
    },
    {
      "cell_type": "code",
      "source": [
        "X_train_top = model.named_steps['preprocessor'].transform(X_train)\n",
        "X_test_top = model.named_steps['preprocessor'].transform(X_test)"
      ],
      "metadata": {
        "id": "IHfXRDQf-As2"
      },
      "execution_count": 175,
      "outputs": []
    },
    {
      "cell_type": "markdown",
      "source": [
        "Filtramos solo las columnas correspondientes a las características más importantes"
      ],
      "metadata": {
        "id": "ydzyBc13-een"
      }
    },
    {
      "cell_type": "code",
      "source": [
        "top_feature_indices = [i for i, feature in enumerate(feature_names) if feature in top_features]\n",
        "X_train_top = X_train_top[:, top_feature_indices]\n",
        "X_test_top = X_test_top[:, top_feature_indices]"
      ],
      "metadata": {
        "id": "VLCEEyY5-iv4"
      },
      "execution_count": 176,
      "outputs": []
    },
    {
      "cell_type": "markdown",
      "source": [
        "Entrenamos el modelo de Random Forest con las características seleccionadas"
      ],
      "metadata": {
        "id": "XuIQFmzR-2rb"
      }
    },
    {
      "cell_type": "code",
      "source": [
        "rf_model_top = RandomForestRegressor(random_state=42)\n",
        "rf_model_top.fit(X_train_top, y_train)"
      ],
      "metadata": {
        "colab": {
          "base_uri": "https://localhost:8080/",
          "height": 74
        },
        "id": "TZu6JV-u-6Sk",
        "outputId": "1afc3a93-f002-468d-fe9f-d434425cd798"
      },
      "execution_count": 177,
      "outputs": [
        {
          "output_type": "execute_result",
          "data": {
            "text/plain": [
              "RandomForestRegressor(random_state=42)"
            ],
            "text/html": [
              "<style>#sk-container-id-8 {color: black;background-color: white;}#sk-container-id-8 pre{padding: 0;}#sk-container-id-8 div.sk-toggleable {background-color: white;}#sk-container-id-8 label.sk-toggleable__label {cursor: pointer;display: block;width: 100%;margin-bottom: 0;padding: 0.3em;box-sizing: border-box;text-align: center;}#sk-container-id-8 label.sk-toggleable__label-arrow:before {content: \"▸\";float: left;margin-right: 0.25em;color: #696969;}#sk-container-id-8 label.sk-toggleable__label-arrow:hover:before {color: black;}#sk-container-id-8 div.sk-estimator:hover label.sk-toggleable__label-arrow:before {color: black;}#sk-container-id-8 div.sk-toggleable__content {max-height: 0;max-width: 0;overflow: hidden;text-align: left;background-color: #f0f8ff;}#sk-container-id-8 div.sk-toggleable__content pre {margin: 0.2em;color: black;border-radius: 0.25em;background-color: #f0f8ff;}#sk-container-id-8 input.sk-toggleable__control:checked~div.sk-toggleable__content {max-height: 200px;max-width: 100%;overflow: auto;}#sk-container-id-8 input.sk-toggleable__control:checked~label.sk-toggleable__label-arrow:before {content: \"▾\";}#sk-container-id-8 div.sk-estimator input.sk-toggleable__control:checked~label.sk-toggleable__label {background-color: #d4ebff;}#sk-container-id-8 div.sk-label input.sk-toggleable__control:checked~label.sk-toggleable__label {background-color: #d4ebff;}#sk-container-id-8 input.sk-hidden--visually {border: 0;clip: rect(1px 1px 1px 1px);clip: rect(1px, 1px, 1px, 1px);height: 1px;margin: -1px;overflow: hidden;padding: 0;position: absolute;width: 1px;}#sk-container-id-8 div.sk-estimator {font-family: monospace;background-color: #f0f8ff;border: 1px dotted black;border-radius: 0.25em;box-sizing: border-box;margin-bottom: 0.5em;}#sk-container-id-8 div.sk-estimator:hover {background-color: #d4ebff;}#sk-container-id-8 div.sk-parallel-item::after {content: \"\";width: 100%;border-bottom: 1px solid gray;flex-grow: 1;}#sk-container-id-8 div.sk-label:hover label.sk-toggleable__label {background-color: #d4ebff;}#sk-container-id-8 div.sk-serial::before {content: \"\";position: absolute;border-left: 1px solid gray;box-sizing: border-box;top: 0;bottom: 0;left: 50%;z-index: 0;}#sk-container-id-8 div.sk-serial {display: flex;flex-direction: column;align-items: center;background-color: white;padding-right: 0.2em;padding-left: 0.2em;position: relative;}#sk-container-id-8 div.sk-item {position: relative;z-index: 1;}#sk-container-id-8 div.sk-parallel {display: flex;align-items: stretch;justify-content: center;background-color: white;position: relative;}#sk-container-id-8 div.sk-item::before, #sk-container-id-8 div.sk-parallel-item::before {content: \"\";position: absolute;border-left: 1px solid gray;box-sizing: border-box;top: 0;bottom: 0;left: 50%;z-index: -1;}#sk-container-id-8 div.sk-parallel-item {display: flex;flex-direction: column;z-index: 1;position: relative;background-color: white;}#sk-container-id-8 div.sk-parallel-item:first-child::after {align-self: flex-end;width: 50%;}#sk-container-id-8 div.sk-parallel-item:last-child::after {align-self: flex-start;width: 50%;}#sk-container-id-8 div.sk-parallel-item:only-child::after {width: 0;}#sk-container-id-8 div.sk-dashed-wrapped {border: 1px dashed gray;margin: 0 0.4em 0.5em 0.4em;box-sizing: border-box;padding-bottom: 0.4em;background-color: white;}#sk-container-id-8 div.sk-label label {font-family: monospace;font-weight: bold;display: inline-block;line-height: 1.2em;}#sk-container-id-8 div.sk-label-container {text-align: center;}#sk-container-id-8 div.sk-container {/* jupyter's `normalize.less` sets `[hidden] { display: none; }` but bootstrap.min.css set `[hidden] { display: none !important; }` so we also need the `!important` here to be able to override the default hidden behavior on the sphinx rendered scikit-learn.org. See: https://github.com/scikit-learn/scikit-learn/issues/21755 */display: inline-block !important;position: relative;}#sk-container-id-8 div.sk-text-repr-fallback {display: none;}</style><div id=\"sk-container-id-8\" class=\"sk-top-container\"><div class=\"sk-text-repr-fallback\"><pre>RandomForestRegressor(random_state=42)</pre><b>In a Jupyter environment, please rerun this cell to show the HTML representation or trust the notebook. <br />On GitHub, the HTML representation is unable to render, please try loading this page with nbviewer.org.</b></div><div class=\"sk-container\" hidden><div class=\"sk-item\"><div class=\"sk-estimator sk-toggleable\"><input class=\"sk-toggleable__control sk-hidden--visually\" id=\"sk-estimator-id-50\" type=\"checkbox\" checked><label for=\"sk-estimator-id-50\" class=\"sk-toggleable__label sk-toggleable__label-arrow\">RandomForestRegressor</label><div class=\"sk-toggleable__content\"><pre>RandomForestRegressor(random_state=42)</pre></div></div></div></div></div>"
            ]
          },
          "metadata": {},
          "execution_count": 177
        }
      ]
    },
    {
      "cell_type": "markdown",
      "source": [
        "Evaluamos el modelo en el conjunto de prueba"
      ],
      "metadata": {
        "id": "6Zbs0dNM--pk"
      }
    },
    {
      "cell_type": "code",
      "source": [
        "y_pred = rf_model_top.predict(X_test_top)\n",
        "\n",
        "mse = mean_squared_error(y_test, y_pred)\n",
        "rmse = np.sqrt(mse)\n",
        "mae = mean_absolute_error(y_test, y_pred)\n",
        "mape = np.mean(np.abs((y_test - y_pred) / y_test)) * 100\n",
        "rae = np.sum(np.abs(y_test - y_pred)) / np.sum(np.abs(y_test - np.mean(y_test)))\n",
        "r2 = r2_score(y_test, y_pred)\n",
        "r2_adjusted = 1 - (1 - r2) * (n - 1) / (n - p - 1)\n",
        "\n",
        "print(f\"Initial Evaluation with Selected Features\")\n",
        "print(f\"Test MSE: {mse}\")\n",
        "print(f\"Test RMSE: {rmse}\")\n",
        "print(f\"Test MAE: {mae}\")\n",
        "print(f\"Test MAPE: {mape}\")\n",
        "print(f\"Test RAE: {rae}\")\n",
        "print(f\"Test R2: {r2}\")\n",
        "print(f\"Test R2_ajustado: {r2_adjusted}\")"
      ],
      "metadata": {
        "colab": {
          "base_uri": "https://localhost:8080/"
        },
        "id": "b3IX47ay_COW",
        "outputId": "6f2b864f-d1b3-4553-f988-10b37d7b1dc3"
      },
      "execution_count": 178,
      "outputs": [
        {
          "output_type": "stream",
          "name": "stdout",
          "text": [
            "Initial Evaluation with Selected Features\n",
            "Test MSE: 431300664.121037\n",
            "Test RMSE: 20767.779470156096\n",
            "Test MAE: 10422.087562036653\n",
            "Test MAPE: 29.057792352972566\n",
            "Test RAE: 0.5395026053476326\n",
            "Test R2: 0.5751612685092616\n",
            "Test R2_ajustado: 0.5732290123017537\n"
          ]
        }
      ]
    },
    {
      "cell_type": "markdown",
      "source": [
        "# **8. Validación Cruzada y Evaluación del modelo con las características seleccionadas**"
      ],
      "metadata": {
        "id": "qQRNfQpstQbK"
      }
    },
    {
      "cell_type": "code",
      "source": [
        "from sklearn.model_selection import cross_val_score, KFold"
      ],
      "metadata": {
        "id": "BdOwfeAa1eU5"
      },
      "execution_count": 179,
      "outputs": []
    },
    {
      "cell_type": "markdown",
      "source": [
        "Vamos a realizar el preprocesdamiento para las características seleccionadas:"
      ],
      "metadata": {
        "id": "O8fBT6WctjiG"
      }
    },
    {
      "cell_type": "code",
      "source": [
        "selected_preprocessor = ColumnTransformer(\n",
        "    transformers=[\n",
        "        ('num', numeric_transformer, [f for f in numeric_features if f in top_features]),\n",
        "        ('cat', categorical_transformer, [f for f in categorical_features if any(f in s for s in top_features)])\n",
        "    ], remainder='drop')"
      ],
      "metadata": {
        "id": "UrDfqps30j3v"
      },
      "execution_count": 180,
      "outputs": []
    },
    {
      "cell_type": "markdown",
      "source": [
        "Creamos el pipeline de preprocesamiento y Random Forest nuevamente"
      ],
      "metadata": {
        "id": "dIzg6TEo0oPp"
      }
    },
    {
      "cell_type": "code",
      "source": [
        "model_top = Pipeline(steps=[('preprocessor', selected_preprocessor),\n",
        "                            ('classifier', RandomForestRegressor(random_state=42))])"
      ],
      "metadata": {
        "id": "NrcAWFAa0tE1"
      },
      "execution_count": 181,
      "outputs": []
    },
    {
      "cell_type": "markdown",
      "source": [
        "**Definimos el KFold Cross-Validation**"
      ],
      "metadata": {
        "id": "jegEo1NB05T1"
      }
    },
    {
      "cell_type": "code",
      "source": [
        "kf = KFold(n_splits=5, shuffle=True, random_state=42)"
      ],
      "metadata": {
        "id": "80Nb0tSH1xEX"
      },
      "execution_count": 182,
      "outputs": []
    },
    {
      "cell_type": "markdown",
      "source": [
        "Evaluamos el modelo el modelo con Cross-Validation"
      ],
      "metadata": {
        "id": "fUKbG3lN2s0R"
      }
    },
    {
      "cell_type": "code",
      "source": [
        "cv_results = cross_val_score(model_top, X_train, y_train, cv=kf, scoring='neg_mean_squared_error')"
      ],
      "metadata": {
        "id": "mVhzG-cG2xh5"
      },
      "execution_count": 183,
      "outputs": []
    },
    {
      "cell_type": "markdown",
      "source": [
        "Se convierten los resultados negativos de MSE a positivos"
      ],
      "metadata": {
        "id": "QkO-x9Sc21yS"
      }
    },
    {
      "cell_type": "code",
      "source": [
        "cv_mse_scores = -cv_results\n",
        "cv_rmse_scores = np.sqrt(cv_mse_scores)"
      ],
      "metadata": {
        "id": "a-oJ6QEA3ELd"
      },
      "execution_count": 184,
      "outputs": []
    },
    {
      "cell_type": "code",
      "source": [
        "print(f\"\\nCross-Validation Evaluation with Selected Features\")\n",
        "print(f\"MSE Scores: {cv_mse_scores}\")\n",
        "print(f\"Mean MSE: {cv_mse_scores.mean()}\")\n",
        "print(f\"RMSE Scores: {cv_rmse_scores}\")\n",
        "print(f\"Mean RMSE: {cv_rmse_scores.mean()}\")"
      ],
      "metadata": {
        "colab": {
          "base_uri": "https://localhost:8080/"
        },
        "id": "3l2H2Q6Z3cjP",
        "outputId": "d7c355f0-0293-49c3-86a7-0e7b071172b7"
      },
      "execution_count": 186,
      "outputs": [
        {
          "output_type": "stream",
          "name": "stdout",
          "text": [
            "\n",
            "Cross-Validation Evaluation with Selected Features\n",
            "MSE Scores: [3.04203815e+08 3.62659417e+08 4.31038932e+08 4.09320794e+08\n",
            " 4.08444648e+08]\n",
            "Mean MSE: 383133521.44638413\n",
            "RMSE Scores: [17441.43959216 19043.61880716 20761.47711876 20231.67798981\n",
            " 20210.01356943]\n",
            "Mean RMSE: 19537.64541546317\n"
          ]
        }
      ]
    },
    {
      "cell_type": "markdown",
      "source": [
        "Entrenamos el modelo final en el conjunto de entrenamiento completo"
      ],
      "metadata": {
        "id": "9xBSC_783sNU"
      }
    },
    {
      "cell_type": "code",
      "source": [
        "model_top.fit(X_train, y_train)"
      ],
      "metadata": {
        "colab": {
          "base_uri": "https://localhost:8080/",
          "height": 191
        },
        "id": "59v7x3DJ3wdl",
        "outputId": "79b06896-ee0d-4fc2-e0d5-ef7a80714598"
      },
      "execution_count": 187,
      "outputs": [
        {
          "output_type": "execute_result",
          "data": {
            "text/plain": [
              "Pipeline(steps=[('preprocessor',\n",
              "                 ColumnTransformer(transformers=[('num', StandardScaler(),\n",
              "                                                  ['Year', 'Kilometres',\n",
              "                                                   'Seats', 'Age',\n",
              "                                                   'Kilometres_Per_Year']),\n",
              "                                                 ('cat',\n",
              "                                                  OneHotEncoder(handle_unknown='ignore'),\n",
              "                                                  ['DriveType', 'FuelType',\n",
              "                                                   'Engine', 'State'])])),\n",
              "                ('classifier', RandomForestRegressor(random_state=42))])"
            ],
            "text/html": [
              "<style>#sk-container-id-9 {color: black;background-color: white;}#sk-container-id-9 pre{padding: 0;}#sk-container-id-9 div.sk-toggleable {background-color: white;}#sk-container-id-9 label.sk-toggleable__label {cursor: pointer;display: block;width: 100%;margin-bottom: 0;padding: 0.3em;box-sizing: border-box;text-align: center;}#sk-container-id-9 label.sk-toggleable__label-arrow:before {content: \"▸\";float: left;margin-right: 0.25em;color: #696969;}#sk-container-id-9 label.sk-toggleable__label-arrow:hover:before {color: black;}#sk-container-id-9 div.sk-estimator:hover label.sk-toggleable__label-arrow:before {color: black;}#sk-container-id-9 div.sk-toggleable__content {max-height: 0;max-width: 0;overflow: hidden;text-align: left;background-color: #f0f8ff;}#sk-container-id-9 div.sk-toggleable__content pre {margin: 0.2em;color: black;border-radius: 0.25em;background-color: #f0f8ff;}#sk-container-id-9 input.sk-toggleable__control:checked~div.sk-toggleable__content {max-height: 200px;max-width: 100%;overflow: auto;}#sk-container-id-9 input.sk-toggleable__control:checked~label.sk-toggleable__label-arrow:before {content: \"▾\";}#sk-container-id-9 div.sk-estimator input.sk-toggleable__control:checked~label.sk-toggleable__label {background-color: #d4ebff;}#sk-container-id-9 div.sk-label input.sk-toggleable__control:checked~label.sk-toggleable__label {background-color: #d4ebff;}#sk-container-id-9 input.sk-hidden--visually {border: 0;clip: rect(1px 1px 1px 1px);clip: rect(1px, 1px, 1px, 1px);height: 1px;margin: -1px;overflow: hidden;padding: 0;position: absolute;width: 1px;}#sk-container-id-9 div.sk-estimator {font-family: monospace;background-color: #f0f8ff;border: 1px dotted black;border-radius: 0.25em;box-sizing: border-box;margin-bottom: 0.5em;}#sk-container-id-9 div.sk-estimator:hover {background-color: #d4ebff;}#sk-container-id-9 div.sk-parallel-item::after {content: \"\";width: 100%;border-bottom: 1px solid gray;flex-grow: 1;}#sk-container-id-9 div.sk-label:hover label.sk-toggleable__label {background-color: #d4ebff;}#sk-container-id-9 div.sk-serial::before {content: \"\";position: absolute;border-left: 1px solid gray;box-sizing: border-box;top: 0;bottom: 0;left: 50%;z-index: 0;}#sk-container-id-9 div.sk-serial {display: flex;flex-direction: column;align-items: center;background-color: white;padding-right: 0.2em;padding-left: 0.2em;position: relative;}#sk-container-id-9 div.sk-item {position: relative;z-index: 1;}#sk-container-id-9 div.sk-parallel {display: flex;align-items: stretch;justify-content: center;background-color: white;position: relative;}#sk-container-id-9 div.sk-item::before, #sk-container-id-9 div.sk-parallel-item::before {content: \"\";position: absolute;border-left: 1px solid gray;box-sizing: border-box;top: 0;bottom: 0;left: 50%;z-index: -1;}#sk-container-id-9 div.sk-parallel-item {display: flex;flex-direction: column;z-index: 1;position: relative;background-color: white;}#sk-container-id-9 div.sk-parallel-item:first-child::after {align-self: flex-end;width: 50%;}#sk-container-id-9 div.sk-parallel-item:last-child::after {align-self: flex-start;width: 50%;}#sk-container-id-9 div.sk-parallel-item:only-child::after {width: 0;}#sk-container-id-9 div.sk-dashed-wrapped {border: 1px dashed gray;margin: 0 0.4em 0.5em 0.4em;box-sizing: border-box;padding-bottom: 0.4em;background-color: white;}#sk-container-id-9 div.sk-label label {font-family: monospace;font-weight: bold;display: inline-block;line-height: 1.2em;}#sk-container-id-9 div.sk-label-container {text-align: center;}#sk-container-id-9 div.sk-container {/* jupyter's `normalize.less` sets `[hidden] { display: none; }` but bootstrap.min.css set `[hidden] { display: none !important; }` so we also need the `!important` here to be able to override the default hidden behavior on the sphinx rendered scikit-learn.org. See: https://github.com/scikit-learn/scikit-learn/issues/21755 */display: inline-block !important;position: relative;}#sk-container-id-9 div.sk-text-repr-fallback {display: none;}</style><div id=\"sk-container-id-9\" class=\"sk-top-container\"><div class=\"sk-text-repr-fallback\"><pre>Pipeline(steps=[(&#x27;preprocessor&#x27;,\n",
              "                 ColumnTransformer(transformers=[(&#x27;num&#x27;, StandardScaler(),\n",
              "                                                  [&#x27;Year&#x27;, &#x27;Kilometres&#x27;,\n",
              "                                                   &#x27;Seats&#x27;, &#x27;Age&#x27;,\n",
              "                                                   &#x27;Kilometres_Per_Year&#x27;]),\n",
              "                                                 (&#x27;cat&#x27;,\n",
              "                                                  OneHotEncoder(handle_unknown=&#x27;ignore&#x27;),\n",
              "                                                  [&#x27;DriveType&#x27;, &#x27;FuelType&#x27;,\n",
              "                                                   &#x27;Engine&#x27;, &#x27;State&#x27;])])),\n",
              "                (&#x27;classifier&#x27;, RandomForestRegressor(random_state=42))])</pre><b>In a Jupyter environment, please rerun this cell to show the HTML representation or trust the notebook. <br />On GitHub, the HTML representation is unable to render, please try loading this page with nbviewer.org.</b></div><div class=\"sk-container\" hidden><div class=\"sk-item sk-dashed-wrapped\"><div class=\"sk-label-container\"><div class=\"sk-label sk-toggleable\"><input class=\"sk-toggleable__control sk-hidden--visually\" id=\"sk-estimator-id-51\" type=\"checkbox\" ><label for=\"sk-estimator-id-51\" class=\"sk-toggleable__label sk-toggleable__label-arrow\">Pipeline</label><div class=\"sk-toggleable__content\"><pre>Pipeline(steps=[(&#x27;preprocessor&#x27;,\n",
              "                 ColumnTransformer(transformers=[(&#x27;num&#x27;, StandardScaler(),\n",
              "                                                  [&#x27;Year&#x27;, &#x27;Kilometres&#x27;,\n",
              "                                                   &#x27;Seats&#x27;, &#x27;Age&#x27;,\n",
              "                                                   &#x27;Kilometres_Per_Year&#x27;]),\n",
              "                                                 (&#x27;cat&#x27;,\n",
              "                                                  OneHotEncoder(handle_unknown=&#x27;ignore&#x27;),\n",
              "                                                  [&#x27;DriveType&#x27;, &#x27;FuelType&#x27;,\n",
              "                                                   &#x27;Engine&#x27;, &#x27;State&#x27;])])),\n",
              "                (&#x27;classifier&#x27;, RandomForestRegressor(random_state=42))])</pre></div></div></div><div class=\"sk-serial\"><div class=\"sk-item sk-dashed-wrapped\"><div class=\"sk-label-container\"><div class=\"sk-label sk-toggleable\"><input class=\"sk-toggleable__control sk-hidden--visually\" id=\"sk-estimator-id-52\" type=\"checkbox\" ><label for=\"sk-estimator-id-52\" class=\"sk-toggleable__label sk-toggleable__label-arrow\">preprocessor: ColumnTransformer</label><div class=\"sk-toggleable__content\"><pre>ColumnTransformer(transformers=[(&#x27;num&#x27;, StandardScaler(),\n",
              "                                 [&#x27;Year&#x27;, &#x27;Kilometres&#x27;, &#x27;Seats&#x27;, &#x27;Age&#x27;,\n",
              "                                  &#x27;Kilometres_Per_Year&#x27;]),\n",
              "                                (&#x27;cat&#x27;, OneHotEncoder(handle_unknown=&#x27;ignore&#x27;),\n",
              "                                 [&#x27;DriveType&#x27;, &#x27;FuelType&#x27;, &#x27;Engine&#x27;, &#x27;State&#x27;])])</pre></div></div></div><div class=\"sk-parallel\"><div class=\"sk-parallel-item\"><div class=\"sk-item\"><div class=\"sk-label-container\"><div class=\"sk-label sk-toggleable\"><input class=\"sk-toggleable__control sk-hidden--visually\" id=\"sk-estimator-id-53\" type=\"checkbox\" ><label for=\"sk-estimator-id-53\" class=\"sk-toggleable__label sk-toggleable__label-arrow\">num</label><div class=\"sk-toggleable__content\"><pre>[&#x27;Year&#x27;, &#x27;Kilometres&#x27;, &#x27;Seats&#x27;, &#x27;Age&#x27;, &#x27;Kilometres_Per_Year&#x27;]</pre></div></div></div><div class=\"sk-serial\"><div class=\"sk-item\"><div class=\"sk-estimator sk-toggleable\"><input class=\"sk-toggleable__control sk-hidden--visually\" id=\"sk-estimator-id-54\" type=\"checkbox\" ><label for=\"sk-estimator-id-54\" class=\"sk-toggleable__label sk-toggleable__label-arrow\">StandardScaler</label><div class=\"sk-toggleable__content\"><pre>StandardScaler()</pre></div></div></div></div></div></div><div class=\"sk-parallel-item\"><div class=\"sk-item\"><div class=\"sk-label-container\"><div class=\"sk-label sk-toggleable\"><input class=\"sk-toggleable__control sk-hidden--visually\" id=\"sk-estimator-id-55\" type=\"checkbox\" ><label for=\"sk-estimator-id-55\" class=\"sk-toggleable__label sk-toggleable__label-arrow\">cat</label><div class=\"sk-toggleable__content\"><pre>[&#x27;DriveType&#x27;, &#x27;FuelType&#x27;, &#x27;Engine&#x27;, &#x27;State&#x27;]</pre></div></div></div><div class=\"sk-serial\"><div class=\"sk-item\"><div class=\"sk-estimator sk-toggleable\"><input class=\"sk-toggleable__control sk-hidden--visually\" id=\"sk-estimator-id-56\" type=\"checkbox\" ><label for=\"sk-estimator-id-56\" class=\"sk-toggleable__label sk-toggleable__label-arrow\">OneHotEncoder</label><div class=\"sk-toggleable__content\"><pre>OneHotEncoder(handle_unknown=&#x27;ignore&#x27;)</pre></div></div></div></div></div></div></div></div><div class=\"sk-item\"><div class=\"sk-estimator sk-toggleable\"><input class=\"sk-toggleable__control sk-hidden--visually\" id=\"sk-estimator-id-57\" type=\"checkbox\" ><label for=\"sk-estimator-id-57\" class=\"sk-toggleable__label sk-toggleable__label-arrow\">RandomForestRegressor</label><div class=\"sk-toggleable__content\"><pre>RandomForestRegressor(random_state=42)</pre></div></div></div></div></div></div></div>"
            ]
          },
          "metadata": {},
          "execution_count": 187
        }
      ]
    },
    {
      "cell_type": "markdown",
      "source": [
        "Finalmente, evaluamos el modelo en el conjunto de prueba"
      ],
      "metadata": {
        "id": "5aR-PMmT307i"
      }
    },
    {
      "cell_type": "code",
      "source": [
        "y_pred = model_top.predict(X_test)\n",
        "\n",
        "mse = mean_squared_error(y_test, y_pred)\n",
        "rmse = np.sqrt(mse)\n",
        "mae = mean_absolute_error(y_test, y_pred)\n",
        "mape = np.mean(np.abs((y_test - y_pred) / y_test)) * 100\n",
        "rae = np.sum(np.abs(y_test - y_pred)) / np.sum(np.abs(y_test - np.mean(y_test)))\n",
        "r2 = r2_score(y_test, y_pred)\n",
        "r2_adjusted = 1 - (1 - r2) * (n - 1) / (n - p - 1)\n",
        "\n",
        "print(f\"\\nFinal Evaluation with Cross-Validation\")\n",
        "print(f\"Test MSE: {mse}\")\n",
        "print(f\"Test RMSE: {rmse}\")\n",
        "print(f\"Test MAE: {mae}\")\n",
        "print(f\"Test MAPE: {mape}\")\n",
        "print(f\"Test RAE: {rae}\")\n",
        "print(f\"Test R2: {r2}\")\n",
        "print(f\"Test R2_ajustado: {r2_adjusted}\")"
      ],
      "metadata": {
        "colab": {
          "base_uri": "https://localhost:8080/"
        },
        "id": "WXPWAY8o38Ng",
        "outputId": "9914682c-fb4a-47e5-a395-4a94dd5befe4"
      },
      "execution_count": 189,
      "outputs": [
        {
          "output_type": "stream",
          "name": "stdout",
          "text": [
            "\n",
            "Final Evaluation with Cross-Validation\n",
            "Test MSE: 350194278.5757417\n",
            "Test RMSE: 18713.47852687313\n",
            "Test MAE: 9186.336502966884\n",
            "Test MAPE: 26.417918387218513\n",
            "Test RAE: 0.4755335672868016\n",
            "Test R2: 0.6550524831937635\n",
            "Test R2_ajustado: 0.6534835890906423\n"
          ]
        }
      ]
    },
    {
      "cell_type": "markdown",
      "source": [
        "Al comparar estas métricas con las obtenidas antes de realizar el proceso de Cross-Validation, tenemos lo siguiente:\n",
        "\n",
        "1. El Error Cuadrático Medio (MSE) y el Error Medio Absoluto (MAE) disminuyen luego de la validación cruzada, lo que indica que el modelo tiene un mejor ajuste a los datos, reduciendo el error promedio de las predicciones.\n",
        "\n",
        "2. La Raíz del Error Cuadrático Medio (RMSE) también disminuye, lo cual refuerza que el modelo ha mejorado en términos de error estándar de las predicciones.\n",
        "\n",
        "3. El Error Porcentual Absoluto Medio (MAPE) disminuye también, lo que se traduce en que el modelo está prediciendo con más precisión en términos relativos a los valores reales.\n",
        "\n",
        "4. El Error Absoluto Relativo (RAE), igualmente disminuye. Esto indica una mejora en la capacidad del modelo para predecir en comparación con un modelo de referencia (por ejemplo, la media).\n",
        "\n",
        "5. El Coeficiente de Determinación (R2) y R2 Ajustado aumentan, indicando que el modelo explica mejor la variabilidad de los datos después de la validación cruzada.\n",
        "\n",
        "\n"
      ],
      "metadata": {
        "id": "veXzp0yi0lpG"
      }
    },
    {
      "cell_type": "markdown",
      "source": [
        "# **9. Conclusiones**"
      ],
      "metadata": {
        "id": "ORMWXhe_Mgf1"
      }
    },
    {
      "cell_type": "markdown",
      "source": [
        "La mejora en las métricas después de aplicar la validación cruzada indica que el modelo se ha ajustado mejor a los datos, reduciendo el error de predicción y mejorando su capacidad explicativa. La validación cruzada, junto con la selección de características importantes, ha llevado a un modelo más robusto y generalizable, mejorando su rendimiento en datos no vistos.\n",
        "\n",
        "Sin embargo, los mejores resultados en las métricas se obtuvieron en el modelo antes de aplicar la selección de características importantes y la validación cruzada. Esto puede explicarse porque al utilizar todas las características disponibles puede generar un modelo más complejo que se ajuste mejor a los datos de entrenamiento, pero no necesariamente generalice bien a nuevos datos (overfitting). También puede ser debido a la selección de características, que aunque es útil para reducir la dimensionalidad y eliminar el ruido, puede también omitir características que, aunque tengan menor importancia individual, en conjunto con otras pueden ser cruciales para el modelo.\n",
        "\n",
        "No obstante, la teoría nos indica que la selección de características y la validación cruzada generalmente producen un modelo más robusto y generalizable. Aunque las métricas pueden parecer peores, el modelo resultante es más confiable para hacer predicciones en nuevos datos."
      ],
      "metadata": {
        "id": "N5ZJejsOMkp2"
      }
    }
  ]
}